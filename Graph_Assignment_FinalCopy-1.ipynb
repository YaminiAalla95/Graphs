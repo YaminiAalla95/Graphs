{
 "cells": [
  {
   "cell_type": "markdown",
   "id": "fa31dc91",
   "metadata": {
    "id": "fa31dc91"
   },
   "source": [
    "# Programming Assignment For Graphs"
   ]
  },
  {
   "cell_type": "markdown",
   "id": "eba09962",
   "metadata": {
    "id": "eba09962"
   },
   "source": [
    "The dataset chosed for the implementation is Wikepedia dataset\n",
    "Dataset Link:  https://snap.stanford.edu/data/wiki-Vote.html\n",
    "\n",
    "The Libraries used for the program are networkx ,community."
   ]
  },
  {
   "cell_type": "code",
   "execution_count": 38,
   "id": "42512919",
   "metadata": {
    "id": "42512919"
   },
   "outputs": [],
   "source": [
    "import networkx as nx\n",
    "import community as community_louvain\n",
    "from collections import defaultdict\n"
   ]
  },
  {
   "cell_type": "code",
   "execution_count": null,
   "id": "faPzsoXKa3GM",
   "metadata": {
    "colab": {
     "base_uri": "https://localhost:8080/"
    },
    "id": "faPzsoXKa3GM",
    "outputId": "913adc8b-fcd8-4c9c-d7be-a3a9ebc22315"
   },
   "outputs": [
    {
     "name": "stdout",
     "output_type": "stream",
     "text": [
      "Mounted at /content/drive\n"
     ]
    }
   ],
   "source": [
    "from google.colab import drive\n",
    "drive.mount('/content/drive')"
   ]
  },
  {
   "cell_type": "markdown",
   "id": "2e066f4b",
   "metadata": {
    "id": "2e066f4b"
   },
   "source": [
    "# Loading Wikipedia Dataset using edgelist method"
   ]
  },
  {
   "cell_type": "code",
   "execution_count": 39,
   "id": "f820191c",
   "metadata": {
    "colab": {
     "base_uri": "https://localhost:8080/",
     "height": 35
    },
    "id": "f820191c",
    "outputId": "650c5450-91fb-4fb5-a221-f512584cfd92"
   },
   "outputs": [
    {
     "data": {
      "application/vnd.google.colaboratory.intrinsic+json": {
       "type": "string"
      },
      "text/plain": [
       "'Name: \\nType: DiGraph\\nNumber of nodes: 7115\\nNumber of edges: 103689\\nAverage in degree:  14.5733\\nAverage out degree:  14.5733'"
      ]
     },
     "execution_count": 39,
     "metadata": {
      "tags": []
     },
     "output_type": "execute_result"
    }
   ],
   "source": [
    "GW=nx.read_edgelist(\"/content/drive/MyDrive/wiki-Vote.txt\", create_using=nx.DiGraph())\n",
    "\n",
    "nx.info(GW)"
   ]
  },
  {
   "cell_type": "markdown",
   "id": "366d02a9",
   "metadata": {
    "id": "366d02a9"
   },
   "source": [
    "Loading Wikepedia dataset using read_edgelist method, As Wikepedia dataset is directed to initilaze the graph i am using DiGraph()"
   ]
  },
  {
   "cell_type": "markdown",
   "id": "fa92edc0",
   "metadata": {
    "id": "fa92edc0"
   },
   "source": [
    "# 1. Finding Number Of Nodes"
   ]
  },
  {
   "cell_type": "code",
   "execution_count": 42,
   "id": "00127a19",
   "metadata": {
    "colab": {
     "base_uri": "https://localhost:8080/"
    },
    "id": "00127a19",
    "outputId": "540be80f-6776-456a-d107-d2e2181796d4"
   },
   "outputs": [
    {
     "name": "stdout",
     "output_type": "stream",
     "text": [
      "Number of Nodes:  7115\n"
     ]
    }
   ],
   "source": [
    "no_nodes= nx.number_of_nodes(GW)\n",
    "print('Number of Nodes: ',no_nodes)"
   ]
  },
  {
   "cell_type": "markdown",
   "id": "16a137bb",
   "metadata": {
    "id": "16a137bb"
   },
   "source": [
    "Using number_of_nodes() method found number of nodes in the graph are - 7115"
   ]
  },
  {
   "cell_type": "markdown",
   "id": "a874f562",
   "metadata": {
    "id": "a874f562"
   },
   "source": [
    "# 2. Finding Number Of Edges"
   ]
  },
  {
   "cell_type": "code",
   "execution_count": 43,
   "id": "0e1b9fda",
   "metadata": {
    "colab": {
     "base_uri": "https://localhost:8080/"
    },
    "id": "0e1b9fda",
    "outputId": "92d9f042-c437-421c-a58a-b0f2de69398b"
   },
   "outputs": [
    {
     "name": "stdout",
     "output_type": "stream",
     "text": [
      "Number of Edges:  103689\n"
     ]
    }
   ],
   "source": [
    "no_edges = nx.number_of_edges(GW)\n",
    "print('Number of Edges: ',no_edges)"
   ]
  },
  {
   "cell_type": "markdown",
   "id": "acbf88b3",
   "metadata": {
    "id": "acbf88b3"
   },
   "source": [
    "Using number_of_edges() method found number of edges in graph are - 103689"
   ]
  },
  {
   "cell_type": "markdown",
   "id": "45faef33",
   "metadata": {
    "id": "45faef33"
   },
   "source": [
    "# 3. Checking Graph strongly connected or not?"
   ]
  },
  {
   "cell_type": "code",
   "execution_count": 45,
   "id": "cf8ce063",
   "metadata": {
    "colab": {
     "base_uri": "https://localhost:8080/"
    },
    "id": "cf8ce063",
    "outputId": "bea036a7-3262-4224-f2a3-b6932494ed40"
   },
   "outputs": [
    {
     "data": {
      "text/plain": [
       "False"
      ]
     },
     "execution_count": 45,
     "metadata": {
      "tags": []
     },
     "output_type": "execute_result"
    }
   ],
   "source": [
    "nx.is_strongly_connected(GW)\n"
   ]
  },
  {
   "cell_type": "markdown",
   "id": "89fcdf99",
   "metadata": {
    "id": "89fcdf99"
   },
   "source": [
    "From the results we can conclude the Graph is not strongly connected."
   ]
  },
  {
   "cell_type": "markdown",
   "id": "a4a62761",
   "metadata": {
    "id": "a4a62761"
   },
   "source": [
    "# Checking for number of strongly and weakly connected components?"
   ]
  },
  {
   "cell_type": "code",
   "execution_count": 50,
   "id": "a546c944",
   "metadata": {
    "colab": {
     "base_uri": "https://localhost:8080/"
    },
    "id": "a546c944",
    "outputId": "ccfb17d2-f11f-449b-b5ca-41db7bccb169"
   },
   "outputs": [
    {
     "name": "stdout",
     "output_type": "stream",
     "text": [
      "weakly_components 24\n",
      "strongly_components 5816\n"
     ]
    }
   ],
   "source": [
    "weakly_components= nx.number_weakly_connected_components(GW)\n",
    "print('weakly_components',weakly_components) \n",
    "\n",
    "strongly_components = nx.number_strongly_connected_components(GW)\n",
    "print('strongly_components',strongly_components)"
   ]
  },
  {
   "cell_type": "markdown",
   "id": "11f0ba42",
   "metadata": {
    "id": "11f0ba42"
   },
   "source": [
    "After applying the respective methods for finding strong and weakly connected components found 24 weakly connected and 5816 strongly components"
   ]
  },
  {
   "cell_type": "markdown",
   "id": "2e3666e7",
   "metadata": {
    "id": "2e3666e7"
   },
   "source": [
    "# 4. Diameter of the Graph"
   ]
  },
  {
   "cell_type": "code",
   "execution_count": null,
   "id": "32ea75d3",
   "metadata": {
    "id": "32ea75d3"
   },
   "outputs": [],
   "source": [
    "print(nx.diameter(GW))"
   ]
  },
  {
   "cell_type": "markdown",
   "id": "2d9aa531",
   "metadata": {
    "id": "2d9aa531"
   },
   "source": [
    "Diameter for not strongly connected graph is diameter is infinite.\n",
    "While running this code block it throws an error mentioning same."
   ]
  },
  {
   "cell_type": "markdown",
   "id": "ae65a262",
   "metadata": {
    "id": "ae65a262"
   },
   "source": [
    "# 5. Finding the average clustering coefficient"
   ]
  },
  {
   "cell_type": "code",
   "execution_count": 49,
   "id": "d3819f4d",
   "metadata": {
    "colab": {
     "base_uri": "https://localhost:8080/"
    },
    "id": "d3819f4d",
    "outputId": "b1200145-538d-4da6-980a-dbda6bd52a4d"
   },
   "outputs": [
    {
     "name": "stdout",
     "output_type": "stream",
     "text": [
      "0.08156344522820935\n"
     ]
    }
   ],
   "source": [
    "avgclustering_coef = nx.average_clustering(GW)\n",
    "print(avgclustering_coef)"
   ]
  },
  {
   "cell_type": "markdown",
   "id": "418cc9c9",
   "metadata": {
    "id": "418cc9c9"
   },
   "source": [
    "average clustering coefficient for garph is 0.0815"
   ]
  },
  {
   "cell_type": "markdown",
   "id": "dc586ed2",
   "metadata": {
    "id": "dc586ed2"
   },
   "source": [
    "# 6a) Finding  two nodes with highest closness centarlity"
   ]
  },
  {
   "cell_type": "code",
   "execution_count": 24,
   "id": "abcb57e7",
   "metadata": {
    "colab": {
     "base_uri": "https://localhost:8080/"
    },
    "id": "abcb57e7",
    "outputId": "faed3356-8541-4af4-982a-bd98d9b60be5"
   },
   "outputs": [
    {
     "name": "stdout",
     "output_type": "stream",
     "text": [
      "Node: 4037\n",
      "Node: 15\n"
     ]
    }
   ],
   "source": [
    "cc = nx.closeness_centrality(GW)\n",
    "lst = sorted(cc, key=cc.get, reverse=True)[:2]\n",
    "for i in lst:\n",
    "    print(\"Node:\",i)\n"
   ]
  },
  {
   "cell_type": "markdown",
   "id": "039af032",
   "metadata": {
    "id": "039af032"
   },
   "source": [
    "After finding closness centarlity for all the nodes in the graph. To get top 2 nodes with highest closness centrality, the return value type is a dictionary with nodes and there respective centrality so using sorted method and getting the top two nodes with highest centraily.After the process top 2 nodes with highest closness centrality are NODE 4037 and 15"
   ]
  },
  {
   "cell_type": "markdown",
   "id": "f734d6c7",
   "metadata": {
    "id": "f734d6c7"
   },
   "source": [
    "# 6b)Finding  two nodes with highest betweenness centarlity "
   ]
  },
  {
   "cell_type": "code",
   "execution_count": 44,
   "id": "fcab0989",
   "metadata": {
    "colab": {
     "base_uri": "https://localhost:8080/"
    },
    "id": "fcab0989",
    "outputId": "5c19762d-1607-4b5b-8075-f9182cf187b1"
   },
   "outputs": [
    {
     "name": "stdout",
     "output_type": "stream",
     "text": [
      "Node: 2565\n",
      "Node: 1549\n"
     ]
    }
   ],
   "source": [
    "bc = nx.betweenness_centrality(GW)\n",
    "lst = sorted(bc, key=bc.get, reverse=True)[:2]\n",
    "for i in lst:\n",
    "    print(\"Node:\",i)\n"
   ]
  },
  {
   "cell_type": "markdown",
   "id": "d0c49e11",
   "metadata": {
    "id": "d0c49e11"
   },
   "source": [
    "After finding betweenness centarlity for all the nodes in the graph. To get top 2 nodes with highest betweenness centrality the return value type is a dictionary with nodes and there respective centrality so using sorted method and getting the top two nodes with highest centraily.After the process top 2 nodes with highest betweenness centrality are NODE 2565 and 1549."
   ]
  },
  {
   "cell_type": "markdown",
   "id": "f68b7b3b",
   "metadata": {
    "id": "f68b7b3b"
   },
   "source": [
    "# 6c)Finding two nodes with highest Page Rank "
   ]
  },
  {
   "cell_type": "code",
   "execution_count": 48,
   "id": "f6dbe7d5",
   "metadata": {
    "colab": {
     "base_uri": "https://localhost:8080/"
    },
    "id": "f6dbe7d5",
    "outputId": "ac014ae3-232e-4ffe-fec2-0471576c7786"
   },
   "outputs": [
    {
     "name": "stdout",
     "output_type": "stream",
     "text": [
      "Node: 4037\n",
      "Node: 15\n"
     ]
    }
   ],
   "source": [
    "pr = nx.pagerank(GW)\n",
    "lst = sorted(pr, key=pr.get, reverse=True)[:2]\n",
    "for i in lst:\n",
    "    print(\"Node:\",i)\n"
   ]
  },
  {
   "cell_type": "markdown",
   "id": "42b5ee44",
   "metadata": {
    "id": "42b5ee44"
   },
   "source": [
    "To find top 2 nodes with highest page rank using pagerank() method from nx library.The return value type is a dictionary with nodes and there respective pagerank so using sorted method and getting the top two nodes with highest page rank.After the process top 2 nodes with highest pagerank are NODE 4037 and 15"
   ]
  },
  {
   "cell_type": "markdown",
   "id": "d40ccc3b",
   "metadata": {
    "id": "d40ccc3b"
   },
   "source": [
    "# 7.Dispersion between two nodes with high page rank"
   ]
  },
  {
   "cell_type": "code",
   "execution_count": 47,
   "id": "ca11e042",
   "metadata": {
    "colab": {
     "base_uri": "https://localhost:8080/"
    },
    "id": "ca11e042",
    "outputId": "429e72cf-05ef-461f-abb8-26e0c773d422"
   },
   "outputs": [
    {
     "name": "stdout",
     "output_type": "stream",
     "text": [
      "0.0\n"
     ]
    }
   ],
   "source": [
    "dispersion = nx.dispersion(GW,u=\"4037\",v=\"15\")\n",
    "print(dispersion)\n"
   ]
  },
  {
   "cell_type": "markdown",
   "id": "cae3c7f8",
   "metadata": {
    "id": "cae3c7f8"
   },
   "source": [
    "Using nx.dispersion() and passing two top nodes with high pagerank dispersion value is 0.0"
   ]
  },
  {
   "cell_type": "markdown",
   "id": "ddd5bbf2",
   "metadata": {
    "id": "ddd5bbf2"
   },
   "source": [
    "# 8a)Similarity between two nodes with highest betweenness"
   ]
  },
  {
   "cell_type": "markdown",
   "id": "dDaMHAi2CyV9",
   "metadata": {
    "id": "dDaMHAi2CyV9"
   },
   "source": [
    "For finding similarity rank between two nodes with highest betweenness and page rank,Used simrank_similarity() method from networkx library. Considered maximum iterations =1 due to time constraint."
   ]
  },
  {
   "cell_type": "code",
   "execution_count": null,
   "id": "c2e5a5cf",
   "metadata": {
    "colab": {
     "background_save": true
    },
    "id": "c2e5a5cf"
   },
   "outputs": [],
   "source": [
    "sim= nx.simrank_similarity(GW,'2565','1549',max_iterations=1)\n"
   ]
  },
  {
   "cell_type": "code",
   "execution_count": 10,
   "id": "_k3w-1R1wxCt",
   "metadata": {
    "colab": {
     "base_uri": "https://localhost:8080/"
    },
    "id": "_k3w-1R1wxCt",
    "outputId": "d5904544-33db-40d4-fea0-07c3686fe129"
   },
   "outputs": [
    {
     "name": "stdout",
     "output_type": "stream",
     "text": [
      "simrank similarity between the two nodes with highest betweenness centrality:  0.00116639356472516\n"
     ]
    }
   ],
   "source": [
    "print('The simrank similarity between the two nodes with highest betweenness centrality: ',sim)"
   ]
  },
  {
   "cell_type": "markdown",
   "id": "51411d82",
   "metadata": {},
   "source": [
    "# b)SimRank similarity between the two nodes with highest PageRank"
   ]
  },
  {
   "cell_type": "code",
   "execution_count": 11,
   "id": "8JGIWa9rxHG_",
   "metadata": {
    "id": "8JGIWa9rxHG_"
   },
   "outputs": [],
   "source": [
    "simrank_pagerank= nx.simrank_similarity(GW,'4037','15',max_iterations=1)"
   ]
  },
  {
   "cell_type": "code",
   "execution_count": 12,
   "id": "_MxmIuvGCdZY",
   "metadata": {
    "colab": {
     "base_uri": "https://localhost:8080/"
    },
    "id": "_MxmIuvGCdZY",
    "outputId": "0926945d-9c6a-46b7-f8a0-a97d4337d19d"
   },
   "outputs": [
    {
     "name": "stdout",
     "output_type": "stream",
     "text": [
      "The SimRank similarity between the two nodes with highest PageRank:  0.000578262424459167\n"
     ]
    }
   ],
   "source": [
    "print('The SimRank similarity between the two nodes with highest PageRank: ',simrank_pagerank)"
   ]
  },
  {
   "cell_type": "markdown",
   "id": "gFUV2NCnH_KY",
   "metadata": {
    "id": "gFUV2NCnH_KY"
   },
   "source": [
    "**9) Finding communities using Louvain algorithm**"
   ]
  },
  {
   "cell_type": "markdown",
   "id": "0GJKR3DdIT-n",
   "metadata": {
    "id": "0GJKR3DdIT-n"
   },
   "source": [
    "As louvain algorithm considers only undirected graph, converting directed graph to undirected using to_undirected() method.\n",
    "Using community_louvain.best_partition method finding communities between graph"
   ]
  },
  {
   "cell_type": "code",
   "execution_count": 27,
   "id": "ed96644a",
   "metadata": {
    "id": "ed96644a"
   },
   "outputs": [],
   "source": [
    "G = GW.to_undirected()\n",
    "communities = community_louvain.best_partition(G)\n",
    "\n"
   ]
  },
  {
   "cell_type": "markdown",
   "id": "Yu2ts7iqLZhj",
   "metadata": {
    "id": "Yu2ts7iqLZhj"
   },
   "source": [
    "Printing the all the communites found"
   ]
  },
  {
   "cell_type": "code",
   "execution_count": 28,
   "id": "c10a1174",
   "metadata": {
    "colab": {
     "base_uri": "https://localhost:8080/"
    },
    "id": "c10a1174",
    "outputId": "1225ec52-395b-4b36-f57c-5bd24edf4d5f"
   },
   "outputs": [
    {
     "data": {
      "text/plain": [
       "{'30': 6,\n",
       " '1412': 5,\n",
       " '3352': 25,\n",
       " '5254': 3,\n",
       " '5543': 3,\n",
       " '7478': 7,\n",
       " '3': 6,\n",
       " '28': 6,\n",
       " '39': 6,\n",
       " '54': 6,\n",
       " '108': 6,\n",
       " '152': 6,\n",
       " '178': 6,\n",
       " '182': 6,\n",
       " '214': 6,\n",
       " '271': 6,\n",
       " '286': 6,\n",
       " '300': 6,\n",
       " '348': 6,\n",
       " '349': 6,\n",
       " '371': 6,\n",
       " '567': 6,\n",
       " '581': 6,\n",
       " '584': 6,\n",
       " '586': 6,\n",
       " '590': 6,\n",
       " '604': 6,\n",
       " '611': 6,\n",
       " '8283': 6,\n",
       " '25': 6,\n",
       " '6': 6,\n",
       " '8': 6,\n",
       " '19': 6,\n",
       " '23': 6,\n",
       " '29': 6,\n",
       " '33': 6,\n",
       " '35': 6,\n",
       " '50': 6,\n",
       " '55': 6,\n",
       " '75': 6,\n",
       " '80': 6,\n",
       " '86': 6,\n",
       " '94': 6,\n",
       " '127': 6,\n",
       " '154': 6,\n",
       " '192': 6,\n",
       " '224': 6,\n",
       " '226': 6,\n",
       " '246': 6,\n",
       " '252': 6,\n",
       " '255': 6,\n",
       " '257': 6,\n",
       " '261': 6,\n",
       " '273': 6,\n",
       " '280': 6,\n",
       " '282': 6,\n",
       " '299': 6,\n",
       " '302': 6,\n",
       " '306': 6,\n",
       " '308': 6,\n",
       " '310': 6,\n",
       " '322': 6,\n",
       " '325': 6,\n",
       " '339': 6,\n",
       " '356': 6,\n",
       " '358': 6,\n",
       " '363': 6,\n",
       " '370': 6,\n",
       " '373': 6,\n",
       " '377': 6,\n",
       " '379': 6,\n",
       " '407': 5,\n",
       " '415': 6,\n",
       " '422': 6,\n",
       " '428': 6,\n",
       " '439': 6,\n",
       " '488': 6,\n",
       " '514': 6,\n",
       " '545': 6,\n",
       " '549': 6,\n",
       " '560': 6,\n",
       " '592': 6,\n",
       " '600': 6,\n",
       " '645': 6,\n",
       " '650': 6,\n",
       " '659': 6,\n",
       " '664': 6,\n",
       " '667': 6,\n",
       " '673': 6,\n",
       " '675': 6,\n",
       " '696': 6,\n",
       " '706': 6,\n",
       " '723': 6,\n",
       " '739': 6,\n",
       " '756': 6,\n",
       " '857': 6,\n",
       " '864': 6,\n",
       " '893': 6,\n",
       " '959': 5,\n",
       " '994': 6,\n",
       " '1131': 6,\n",
       " '3755': 5,\n",
       " '8282': 6,\n",
       " '8284': 6,\n",
       " '4': 6,\n",
       " '10': 6,\n",
       " '38': 6,\n",
       " '56': 6,\n",
       " '130': 6,\n",
       " '140': 6,\n",
       " '147': 6,\n",
       " '151': 6,\n",
       " '232': 6,\n",
       " '243': 6,\n",
       " '341': 6,\n",
       " '606': 6,\n",
       " '5': 6,\n",
       " '61': 6,\n",
       " '89': 6,\n",
       " '93': 6,\n",
       " '153': 6,\n",
       " '163': 6,\n",
       " '167': 6,\n",
       " '168': 6,\n",
       " '175': 6,\n",
       " '34': 6,\n",
       " '132': 6,\n",
       " '135': 6,\n",
       " '171': 6,\n",
       " '183': 6,\n",
       " '216': 6,\n",
       " '219': 6,\n",
       " '227': 6,\n",
       " '228': 6,\n",
       " '236': 6,\n",
       " '250': 6,\n",
       " '258': 6,\n",
       " '259': 6,\n",
       " '274': 6,\n",
       " '285': 5,\n",
       " '290': 5,\n",
       " '298': 5,\n",
       " '301': 6,\n",
       " '304': 6,\n",
       " '317': 6,\n",
       " '319': 6,\n",
       " '359': 6,\n",
       " '362': 6,\n",
       " '378': 6,\n",
       " '390': 6,\n",
       " '391': 6,\n",
       " '392': 6,\n",
       " '394': 6,\n",
       " '396': 6,\n",
       " '402': 6,\n",
       " '405': 6,\n",
       " '406': 6,\n",
       " '421': 6,\n",
       " '427': 6,\n",
       " '431': 6,\n",
       " '432': 6,\n",
       " '433': 6,\n",
       " '435': 6,\n",
       " '440': 6,\n",
       " '447': 6,\n",
       " '538': 6,\n",
       " '564': 6,\n",
       " '566': 6,\n",
       " '579': 5,\n",
       " '589': 6,\n",
       " '609': 6,\n",
       " '613': 6,\n",
       " '616': 6,\n",
       " '617': 6,\n",
       " '619': 6,\n",
       " '643': 6,\n",
       " '656': 6,\n",
       " '665': 6,\n",
       " '668': 6,\n",
       " '691': 5,\n",
       " '694': 6,\n",
       " '700': 6,\n",
       " '704': 6,\n",
       " '717': 5,\n",
       " '730': 6,\n",
       " '733': 6,\n",
       " '741': 6,\n",
       " '761': 5,\n",
       " '765': 5,\n",
       " '779': 6,\n",
       " '789': 6,\n",
       " '791': 6,\n",
       " '798': 6,\n",
       " '802': 6,\n",
       " '813': 5,\n",
       " '820': 6,\n",
       " '826': 5,\n",
       " '863': 6,\n",
       " '871': 5,\n",
       " '881': 6,\n",
       " '885': 6,\n",
       " '895': 6,\n",
       " '897': 6,\n",
       " '904': 5,\n",
       " '906': 6,\n",
       " '907': 5,\n",
       " '913': 5,\n",
       " '922': 5,\n",
       " '932': 6,\n",
       " '936': 6,\n",
       " '955': 6,\n",
       " '960': 6,\n",
       " '963': 6,\n",
       " '966': 6,\n",
       " '971': 5,\n",
       " '972': 6,\n",
       " '978': 6,\n",
       " '979': 6,\n",
       " '983': 6,\n",
       " '991': 6,\n",
       " '993': 5,\n",
       " '995': 6,\n",
       " '1007': 6,\n",
       " '1014': 6,\n",
       " '1022': 6,\n",
       " '1026': 6,\n",
       " '1032': 5,\n",
       " '1035': 5,\n",
       " '1043': 6,\n",
       " '1055': 5,\n",
       " '1062': 5,\n",
       " '1125': 6,\n",
       " '1144': 6,\n",
       " '1152': 6,\n",
       " '1156': 6,\n",
       " '1160': 6,\n",
       " '1167': 5,\n",
       " '1168': 5,\n",
       " '1218': 6,\n",
       " '1220': 6,\n",
       " '1221': 5,\n",
       " '1222': 6,\n",
       " '1234': 5,\n",
       " '1241': 5,\n",
       " '1248': 5,\n",
       " '1253': 5,\n",
       " '1261': 5,\n",
       " '1297': 5,\n",
       " '1321': 6,\n",
       " '1326': 5,\n",
       " '1377': 5,\n",
       " '1389': 5,\n",
       " '1390': 5,\n",
       " '1394': 6,\n",
       " '1396': 6,\n",
       " '1428': 5,\n",
       " '1439': 5,\n",
       " '1441': 5,\n",
       " '1442': 5,\n",
       " '1446': 6,\n",
       " '1453': 25,\n",
       " '1464': 6,\n",
       " '1465': 5,\n",
       " '1468': 6,\n",
       " '1471': 5,\n",
       " '1472': 5,\n",
       " '1476': 6,\n",
       " '1478': 5,\n",
       " '1484': 5,\n",
       " '1485': 5,\n",
       " '1487': 5,\n",
       " '1489': 5,\n",
       " '1490': 5,\n",
       " '1497': 5,\n",
       " '1501': 5,\n",
       " '1506': 5,\n",
       " '1507': 5,\n",
       " '1513': 6,\n",
       " '1514': 5,\n",
       " '1518': 5,\n",
       " '1524': 6,\n",
       " '1525': 5,\n",
       " '1531': 5,\n",
       " '1532': 5,\n",
       " '1533': 5,\n",
       " '1538': 5,\n",
       " '1549': 5,\n",
       " '1555': 5,\n",
       " '1556': 5,\n",
       " '1557': 5,\n",
       " '1563': 5,\n",
       " '1569': 6,\n",
       " '1573': 6,\n",
       " '1587': 5,\n",
       " '1597': 5,\n",
       " '1610': 5,\n",
       " '1619': 5,\n",
       " '1641': 5,\n",
       " '1648': 3,\n",
       " '1652': 5,\n",
       " '1654': 5,\n",
       " '1657': 5,\n",
       " '1662': 5,\n",
       " '1669': 5,\n",
       " '1679': 25,\n",
       " '1689': 5,\n",
       " '1692': 5,\n",
       " '1701': 5,\n",
       " '1716': 5,\n",
       " '1718': 6,\n",
       " '1752': 5,\n",
       " '1758': 5,\n",
       " '1768': 5,\n",
       " '1774': 5,\n",
       " '1783': 5,\n",
       " '1787': 5,\n",
       " '1788': 5,\n",
       " '1798': 5,\n",
       " '1861': 5,\n",
       " '1864': 5,\n",
       " '1982': 7,\n",
       " '2409': 6,\n",
       " '2651': 25,\n",
       " '2843': 6,\n",
       " '2909': 3,\n",
       " '3892': 25,\n",
       " '4037': 7,\n",
       " '4134': 7,\n",
       " '4792': 3,\n",
       " '4942': 3,\n",
       " '5323': 3,\n",
       " '5697': 3,\n",
       " '6227': 7,\n",
       " '6330': 7,\n",
       " '6624': 7,\n",
       " '6765': 7,\n",
       " '6790': 7,\n",
       " '6965': 6,\n",
       " '7161': 7,\n",
       " '7632': 7,\n",
       " '8290': 5,\n",
       " '7': 6,\n",
       " '32': 6,\n",
       " '105': 6,\n",
       " '524': 6,\n",
       " '1190': 6,\n",
       " '1193': 6,\n",
       " '1425': 6,\n",
       " '1919': 5,\n",
       " '8287': 6,\n",
       " '36': 6,\n",
       " '49': 6,\n",
       " '144': 6,\n",
       " '150': 6,\n",
       " '389': 6,\n",
       " '506': 5,\n",
       " '587': 6,\n",
       " '607': 6,\n",
       " '622': 6,\n",
       " '624': 6,\n",
       " '627': 6,\n",
       " '628': 6,\n",
       " '631': 6,\n",
       " '636': 6,\n",
       " '637': 6,\n",
       " '657': 6,\n",
       " '658': 6,\n",
       " '674': 6,\n",
       " '677': 6,\n",
       " '681': 6,\n",
       " '687': 6,\n",
       " '715': 6,\n",
       " '719': 6,\n",
       " '725': 6,\n",
       " '749': 6,\n",
       " '760': 6,\n",
       " '778': 25,\n",
       " '806': 6,\n",
       " '810': 6,\n",
       " '817': 6,\n",
       " '822': 6,\n",
       " '844': 6,\n",
       " '866': 6,\n",
       " '868': 6,\n",
       " '875': 6,\n",
       " '878': 6,\n",
       " '882': 6,\n",
       " '938': 7,\n",
       " '977': 6,\n",
       " '1092': 6,\n",
       " '9': 6,\n",
       " '517': 6,\n",
       " '559': 5,\n",
       " '626': 6,\n",
       " '918': 6,\n",
       " '982': 6,\n",
       " '1049': 5,\n",
       " '1103': 5,\n",
       " '1384': 5,\n",
       " '1580': 5,\n",
       " '1618': 5,\n",
       " '1717': 5,\n",
       " '1855': 5,\n",
       " '1966': 5,\n",
       " '743': 6,\n",
       " '746': 6,\n",
       " '748': 6,\n",
       " '750': 6,\n",
       " '11': 5,\n",
       " '15': 3,\n",
       " '72': 6,\n",
       " '95': 6,\n",
       " '204': 25,\n",
       " '230': 5,\n",
       " '313': 6,\n",
       " '332': 5,\n",
       " '334': 6,\n",
       " '338': 6,\n",
       " '350': 5,\n",
       " '372': 5,\n",
       " '429': 6,\n",
       " '465': 25,\n",
       " '575': 5,\n",
       " '608': 25,\n",
       " '644': 6,\n",
       " '647': 6,\n",
       " '684': 6,\n",
       " '705': 6,\n",
       " '707': 6,\n",
       " '710': 6,\n",
       " '722': 5,\n",
       " '744': 5,\n",
       " '762': 5,\n",
       " '763': 5,\n",
       " '764': 5,\n",
       " '771': 5,\n",
       " '793': 6,\n",
       " '803': 6,\n",
       " '805': 6,\n",
       " '825': 25,\n",
       " '829': 6,\n",
       " '836': 5,\n",
       " '837': 6,\n",
       " '838': 6,\n",
       " '839': 6,\n",
       " '849': 6,\n",
       " '853': 6,\n",
       " '859': 5,\n",
       " '873': 5,\n",
       " '887': 5,\n",
       " '908': 5,\n",
       " '929': 6,\n",
       " '934': 6,\n",
       " '935': 5,\n",
       " '937': 5,\n",
       " '941': 5,\n",
       " '942': 6,\n",
       " '943': 6,\n",
       " '945': 6,\n",
       " '946': 5,\n",
       " '947': 5,\n",
       " '956': 6,\n",
       " '958': 6,\n",
       " '968': 5,\n",
       " '975': 5,\n",
       " '985': 6,\n",
       " '989': 6,\n",
       " '999': 6,\n",
       " '1000': 5,\n",
       " '1006': 5,\n",
       " '1012': 5,\n",
       " '1018': 5,\n",
       " '1031': 5,\n",
       " '1034': 5,\n",
       " '1061': 5,\n",
       " '1075': 6,\n",
       " '1080': 6,\n",
       " '1097': 5,\n",
       " '1111': 5,\n",
       " '1124': 5,\n",
       " '1127': 5,\n",
       " '1128': 6,\n",
       " '1137': 5,\n",
       " '1151': 5,\n",
       " '1154': 5,\n",
       " '1164': 5,\n",
       " '1165': 5,\n",
       " '1185': 5,\n",
       " '1186': 5,\n",
       " '1191': 7,\n",
       " '1196': 6,\n",
       " '1199': 5,\n",
       " '1200': 5,\n",
       " '1201': 5,\n",
       " '1203': 5,\n",
       " '1211': 5,\n",
       " '1230': 5,\n",
       " '1239': 25,\n",
       " '1243': 5,\n",
       " '1250': 5,\n",
       " '1259': 25,\n",
       " '1260': 6,\n",
       " '1279': 5,\n",
       " '1282': 5,\n",
       " '1284': 5,\n",
       " '1285': 5,\n",
       " '1286': 5,\n",
       " '1296': 6,\n",
       " '1305': 25,\n",
       " '1307': 25,\n",
       " '1310': 3,\n",
       " '1319': 5,\n",
       " '1322': 5,\n",
       " '1330': 6,\n",
       " '1353': 5,\n",
       " '1360': 3,\n",
       " '1372': 6,\n",
       " '1374': 7,\n",
       " '1375': 6,\n",
       " '1378': 5,\n",
       " '1382': 25,\n",
       " '1385': 25,\n",
       " '1402': 6,\n",
       " '1407': 5,\n",
       " '1411': 5,\n",
       " '1413': 6,\n",
       " '1418': 6,\n",
       " '1420': 5,\n",
       " '1435': 5,\n",
       " '1437': 25,\n",
       " '1444': 5,\n",
       " '1482': 5,\n",
       " '1486': 5,\n",
       " '1492': 5,\n",
       " '1496': 5,\n",
       " '1520': 5,\n",
       " '1521': 5,\n",
       " '1534': 5,\n",
       " '1542': 3,\n",
       " '1547': 5,\n",
       " '1550': 25,\n",
       " '1565': 5,\n",
       " '1566': 5,\n",
       " '1583': 5,\n",
       " '1585': 5,\n",
       " '1592': 5,\n",
       " '1608': 5,\n",
       " '1613': 5,\n",
       " '1621': 5,\n",
       " '1622': 5,\n",
       " '1628': 5,\n",
       " '1629': 5,\n",
       " '1633': 25,\n",
       " '1637': 5,\n",
       " '1638': 5,\n",
       " '1646': 5,\n",
       " '1649': 5,\n",
       " '1653': 5,\n",
       " '1658': 5,\n",
       " '1661': 5,\n",
       " '1672': 5,\n",
       " '1680': 3,\n",
       " '1687': 5,\n",
       " '1688': 25,\n",
       " '1697': 5,\n",
       " '1700': 5,\n",
       " '1706': 25,\n",
       " '1707': 5,\n",
       " '1714': 5,\n",
       " '1726': 5,\n",
       " '1729': 25,\n",
       " '1730': 5,\n",
       " '1732': 5,\n",
       " '1746': 5,\n",
       " '1747': 5,\n",
       " '1749': 25,\n",
       " '1757': 5,\n",
       " '1769': 25,\n",
       " '1771': 5,\n",
       " '1772': 5,\n",
       " '1780': 5,\n",
       " '1791': 5,\n",
       " '1802': 5,\n",
       " '1805': 5,\n",
       " '1811': 5,\n",
       " '1816': 5,\n",
       " '1835': 5,\n",
       " '1836': 5,\n",
       " '1842': 5,\n",
       " '1847': 5,\n",
       " '1848': 5,\n",
       " '1849': 5,\n",
       " '1857': 5,\n",
       " '1858': 5,\n",
       " '1859': 5,\n",
       " '1880': 5,\n",
       " '1884': 5,\n",
       " '1888': 5,\n",
       " '1893': 5,\n",
       " '1901': 5,\n",
       " '1903': 5,\n",
       " '1908': 5,\n",
       " '1920': 5,\n",
       " '1927': 5,\n",
       " '1953': 5,\n",
       " '1956': 5,\n",
       " '1963': 5,\n",
       " '1964': 5,\n",
       " '1965': 5,\n",
       " '1969': 5,\n",
       " '1973': 5,\n",
       " '1977': 5,\n",
       " '1979': 5,\n",
       " '1983': 5,\n",
       " '1985': 5,\n",
       " '1987': 5,\n",
       " '1990': 25,\n",
       " '1991': 5,\n",
       " '1992': 5,\n",
       " '1997': 5,\n",
       " '2004': 5,\n",
       " '2007': 5,\n",
       " '2014': 3,\n",
       " '2055': 5,\n",
       " '2060': 5,\n",
       " '2062': 5,\n",
       " '2066': 5,\n",
       " '2071': 5,\n",
       " '2073': 5,\n",
       " '2076': 5,\n",
       " '2079': 5,\n",
       " '2085': 5,\n",
       " '2091': 5,\n",
       " '2095': 5,\n",
       " '2097': 5,\n",
       " '2101': 5,\n",
       " '2109': 25,\n",
       " '2114': 25,\n",
       " '2117': 5,\n",
       " '2119': 5,\n",
       " '2128': 5,\n",
       " '2134': 25,\n",
       " '2137': 5,\n",
       " '2144': 25,\n",
       " '2145': 25,\n",
       " '2151': 5,\n",
       " '2157': 5,\n",
       " '2168': 5,\n",
       " '2178': 5,\n",
       " '2181': 5,\n",
       " '2182': 5,\n",
       " '2193': 5,\n",
       " '2202': 5,\n",
       " '2205': 5,\n",
       " '2206': 5,\n",
       " '2210': 25,\n",
       " '2237': 25,\n",
       " '2240': 5,\n",
       " '2241': 5,\n",
       " '2246': 5,\n",
       " '2252': 25,\n",
       " '2253': 5,\n",
       " '2257': 25,\n",
       " '2273': 5,\n",
       " '2289': 25,\n",
       " '2294': 5,\n",
       " '2328': 25,\n",
       " '2329': 5,\n",
       " '2332': 25,\n",
       " '2333': 5,\n",
       " '2339': 5,\n",
       " '2341': 5,\n",
       " '2345': 5,\n",
       " '2350': 5,\n",
       " '2362': 5,\n",
       " '2364': 3,\n",
       " '2381': 3,\n",
       " '2384': 25,\n",
       " '2385': 5,\n",
       " '2397': 5,\n",
       " '2400': 5,\n",
       " '2410': 5,\n",
       " '2411': 25,\n",
       " '2426': 5,\n",
       " '2435': 5,\n",
       " '2456': 3,\n",
       " '2470': 5,\n",
       " '2475': 5,\n",
       " '2479': 5,\n",
       " '2484': 5,\n",
       " '2485': 25,\n",
       " '2490': 3,\n",
       " '2499': 5,\n",
       " '2504': 5,\n",
       " '2506': 25,\n",
       " '2508': 25,\n",
       " '2517': 5,\n",
       " '2535': 3,\n",
       " '2544': 25,\n",
       " '2565': 7,\n",
       " '2570': 5,\n",
       " '2575': 5,\n",
       " '2579': 5,\n",
       " '2580': 5,\n",
       " '2585': 25,\n",
       " '2587': 5,\n",
       " '2593': 5,\n",
       " '2595': 25,\n",
       " '2604': 5,\n",
       " '2612': 25,\n",
       " '2619': 25,\n",
       " '2625': 25,\n",
       " '2643': 5,\n",
       " '2646': 25,\n",
       " '2653': 25,\n",
       " '2655': 25,\n",
       " '2657': 25,\n",
       " '2665': 5,\n",
       " '2669': 5,\n",
       " '2685': 5,\n",
       " '2686': 25,\n",
       " '2696': 3,\n",
       " '2720': 5,\n",
       " '2727': 25,\n",
       " '2746': 25,\n",
       " '2754': 5,\n",
       " '2760': 3,\n",
       " '2763': 5,\n",
       " '2775': 3,\n",
       " '2777': 5,\n",
       " '2787': 3,\n",
       " '2794': 5,\n",
       " '2811': 3,\n",
       " '2859': 25,\n",
       " '2871': 25,\n",
       " '2900': 25,\n",
       " '2923': 25,\n",
       " '2932': 25,\n",
       " '2958': 25,\n",
       " '2981': 25,\n",
       " '3002': 3,\n",
       " '3005': 25,\n",
       " '3007': 25,\n",
       " '3010': 25,\n",
       " '3014': 25,\n",
       " '3024': 25,\n",
       " '3026': 25,\n",
       " '3028': 25,\n",
       " '3034': 25,\n",
       " '3059': 25,\n",
       " '3073': 3,\n",
       " '3084': 25,\n",
       " '3092': 3,\n",
       " '3114': 25,\n",
       " '3117': 25,\n",
       " '3125': 25,\n",
       " '3136': 5,\n",
       " '3140': 25,\n",
       " '3144': 25,\n",
       " '3180': 25,\n",
       " '3192': 25,\n",
       " '3258': 25,\n",
       " '3260': 25,\n",
       " '3284': 3,\n",
       " '3291': 25,\n",
       " '3309': 25,\n",
       " '3321': 3,\n",
       " '3334': 7,\n",
       " '3394': 25,\n",
       " '3404': 25,\n",
       " '3433': 3,\n",
       " '3439': 25,\n",
       " '3443': 25,\n",
       " '3447': 3,\n",
       " '3452': 3,\n",
       " '3453': 3,\n",
       " '3454': 25,\n",
       " '3458': 3,\n",
       " '3463': 3,\n",
       " '3464': 3,\n",
       " '3480': 25,\n",
       " '3529': 25,\n",
       " '3537': 3,\n",
       " '3557': 25,\n",
       " '3562': 25,\n",
       " '3568': 25,\n",
       " '3607': 3,\n",
       " '3615': 25,\n",
       " '3631': 25,\n",
       " '3635': 25,\n",
       " '3645': 25,\n",
       " '3650': 25,\n",
       " '3660': 25,\n",
       " '3661': 25,\n",
       " '3680': 25,\n",
       " '3748': 3,\n",
       " '3787': 3,\n",
       " '3800': 25,\n",
       " '3806': 3,\n",
       " '3807': 25,\n",
       " '3812': 25,\n",
       " '3830': 3,\n",
       " '3843': 25,\n",
       " '3847': 25,\n",
       " '3871': 25,\n",
       " '3903': 25,\n",
       " '3926': 25,\n",
       " '3937': 25,\n",
       " '3956': 3,\n",
       " '3958': 3,\n",
       " '3967': 25,\n",
       " '3970': 25,\n",
       " '4011': 25,\n",
       " '4013': 25,\n",
       " '4021': 25,\n",
       " '4024': 25,\n",
       " '4040': 3,\n",
       " '4043': 25,\n",
       " '4044': 3,\n",
       " '4055': 25,\n",
       " '4058': 25,\n",
       " '4065': 3,\n",
       " '4072': 3,\n",
       " '4088': 25,\n",
       " '4103': 25,\n",
       " '4124': 3,\n",
       " '4162': 25,\n",
       " '4179': 25,\n",
       " '4201': 25,\n",
       " '4212': 3,\n",
       " '4231': 25,\n",
       " '4247': 3,\n",
       " '4256': 25,\n",
       " '4261': 3,\n",
       " '4263': 25,\n",
       " '4266': 3,\n",
       " '4269': 25,\n",
       " '4289': 25,\n",
       " '4290': 25,\n",
       " '4297': 3,\n",
       " '4299': 25,\n",
       " '4335': 3,\n",
       " '4384': 25,\n",
       " '4417': 25,\n",
       " '4422': 25,\n",
       " '4424': 25,\n",
       " '4463': 25,\n",
       " '4485': 25,\n",
       " '4510': 25,\n",
       " '4528': 25,\n",
       " '4531': 25,\n",
       " '4547': 3,\n",
       " '4578': 25,\n",
       " '4613': 3,\n",
       " '4661': 3,\n",
       " '4662': 3,\n",
       " '4706': 3,\n",
       " '4709': 7,\n",
       " '4719': 3,\n",
       " '4796': 3,\n",
       " '4808': 3,\n",
       " '4811': 3,\n",
       " '4814': 3,\n",
       " '4820': 3,\n",
       " '4827': 3,\n",
       " '4938': 3,\n",
       " '4962': 3,\n",
       " '5026': 3,\n",
       " '5037': 3,\n",
       " '5055': 3,\n",
       " '5073': 3,\n",
       " '5092': 3,\n",
       " '5100': 3,\n",
       " '5106': 3,\n",
       " '5130': 3,\n",
       " '5132': 3,\n",
       " '5144': 3,\n",
       " '5802': 7,\n",
       " '6170': 3,\n",
       " '6496': 7,\n",
       " '6715': 7,\n",
       " '6739': 3,\n",
       " '8286': 6,\n",
       " '8291': 5,\n",
       " '8293': 25,\n",
       " '12': 6,\n",
       " '663': 6,\n",
       " '697': 6,\n",
       " '2708': 25,\n",
       " '3371': 25,\n",
       " '4233': 25,\n",
       " '13': 6,\n",
       " '14': 6,\n",
       " '324': 6,\n",
       " '368': 6,\n",
       " '477': 6,\n",
       " '797': 6,\n",
       " '1053': 6,\n",
       " '1123': 6,\n",
       " '2016': 25,\n",
       " '8285': 6,\n",
       " '417': 25,\n",
       " '737': 7,\n",
       " '974': 25,\n",
       " '2229': 25,\n",
       " '2398': 3,\n",
       " '4561': 3,\n",
       " '4600': 3,\n",
       " '4645': 3,\n",
       " '4658': 3,\n",
       " '7871': 7,\n",
       " '8292': 5,\n",
       " '16': 6,\n",
       " '17': 6,\n",
       " '18': 6,\n",
       " '20': 6,\n",
       " '321': 6,\n",
       " '425': 5,\n",
       " '861': 5,\n",
       " '896': 3,\n",
       " '981': 6,\n",
       " '1044': 6,\n",
       " '1352': 5,\n",
       " '1604': 5,\n",
       " '2165': 5,\n",
       " '2281': 5,\n",
       " '2285': 10,\n",
       " '2324': 25,\n",
       " '2348': 5,\n",
       " '2693': 25,\n",
       " '2774': 3,\n",
       " '2828': 5,\n",
       " '2877': 5,\n",
       " '3027': 3,\n",
       " '3456': 3,\n",
       " '3516': 25,\n",
       " '3614': 3,\n",
       " '4373': 25,\n",
       " '5327': 3,\n",
       " '5714': 3,\n",
       " '5775': 3,\n",
       " '5780': 3,\n",
       " '5814': 7,\n",
       " '5818': 3,\n",
       " '6229': 3,\n",
       " '6262': 3,\n",
       " '6780': 7,\n",
       " '7726': 7,\n",
       " '8288': 6,\n",
       " '21': 6,\n",
       " '794': 6,\n",
       " '2814': 5,\n",
       " '22': 6,\n",
       " '601': 6,\n",
       " '670': 6,\n",
       " '1029': 6,\n",
       " '1039': 6,\n",
       " '1593': 5,\n",
       " '24': 6,\n",
       " '311': 5,\n",
       " '633': 6,\n",
       " '742': 6,\n",
       " '769': 6,\n",
       " '856': 25,\n",
       " '1100': 25,\n",
       " '1267': 5,\n",
       " '1315': 5,\n",
       " '1357': 5,\n",
       " '1416': 25,\n",
       " '1419': 5,\n",
       " '1473': 5,\n",
       " '1548': 3,\n",
       " '1705': 5,\n",
       " '1723': 5,\n",
       " '1734': 5,\n",
       " '1754': 5,\n",
       " '1781': 25,\n",
       " '1808': 5,\n",
       " '1814': 25,\n",
       " '1837': 5,\n",
       " '2209': 25,\n",
       " '2225': 25,\n",
       " '2264': 5,\n",
       " '2276': 3,\n",
       " '2323': 25,\n",
       " '2354': 3,\n",
       " '2371': 25,\n",
       " '2375': 5,\n",
       " '2516': 3,\n",
       " '2542': 25,\n",
       " '2560': 25,\n",
       " '2660': 25,\n",
       " '2667': 3,\n",
       " '2697': 25,\n",
       " '2707': 25,\n",
       " '2815': 5,\n",
       " '2819': 25,\n",
       " '2822': 3,\n",
       " '2830': 25,\n",
       " '2922': 5,\n",
       " ...}"
      ]
     },
     "execution_count": 28,
     "metadata": {
      "tags": []
     },
     "output_type": "execute_result"
    }
   ],
   "source": [
    "communities"
   ]
  },
  {
   "cell_type": "markdown",
   "id": "AXTg2Vy7LgI5",
   "metadata": {
    "id": "AXTg2Vy7LgI5"
   },
   "source": [
    "Grouping the communities based on thier respective values in dictionary"
   ]
  },
  {
   "cell_type": "code",
   "execution_count": 37,
   "id": "MYFrjXkeJJ-r",
   "metadata": {
    "colab": {
     "base_uri": "https://localhost:8080/"
    },
    "id": "MYFrjXkeJJ-r",
    "outputId": "28086ac2-e88d-483e-a228-bb42ad222240"
   },
   "outputs": [
    {
     "name": "stdout",
     "output_type": "stream",
     "text": [
      "Grouped communities are : {6: ['10', '100', '1001', '1002', '1007', '1008', '101', '1013', '1014', '102', '1020', '1021', '1022', '1023', '1025', '1026', '1027', '1028', '1029', '103', '1030', '1033', '1038', '1039', '104', '1040', '1043', '1044', '1045', '1046', '1047', '1048', '105', '1052', '1053', '106', '1064', '1066', '1067', '107', '1070', '1071', '1072', '1075', '1077', '1078', '1079', '108', '1080', '1081', '1083', '1084', '1085', '1087', '1088', '1090', '1092', '1093', '1094', '1096', '110', '1101', '1104', '1105', '1106', '1107', '1108', '1109', '111', '1110', '1112', '1113', '1114', '1115', '112', '1120', '1123', '1125', '1126', '1128', '113', '1130', '1131', '1134', '1138', '1139', '114', '1140', '1141', '1144', '1145', '1146', '115', '1152', '1155', '1156', '1158', '116', '1160', '1161', '117', '1170', '118', '1187', '1188', '1189', '119', '1190', '1192', '1193', '1194', '1195', '1196', '12', '120', '1204', '121', '1218', '1219', '1220', '1222', '123', '1232', '1235', '1237', '124', '1240', '1244', '1245', '1246', '125', '1252', '126', '1260', '1262', '127', '1270', '1271', '1287', '129', '1292', '1294', '1295', '1296', '1298', '13', '130', '1300', '1301', '1302', '1303', '1304', '1308', '1309', '1311', '1312', '1313', '1314', '1317', '1318', '132', '1321', '1324', '1325', '1327', '1328', '1329', '133', '1330', '1331', '1332', '1333', '1334', '1336', '1337', '134', '1340', '1343', '1344', '1345', '1349', '135', '1351', '1361', '1366', '137', '1372', '1375', '138', '139', '1391', '1392', '1394', '1396', '1397', '1398', '1399', '14', '140', '1400', '1402', '141', '1413', '1418', '142', '1421', '1422', '1423', '1425', '143', '1432', '1436', '144', '1440', '1445', '1446', '145', '1454', '1455', '1456', '1458', '1459', '146', '1460', '1461', '1464', '1468', '147', '1476', '149', '150', '151', '1512', '1513', '152', '1523', '1524', '1527', '153', '154', '156', '1569', '157', '1572', '1573', '1576', '158', '159', '16', '160', '161', '162', '163', '1634', '1635', '164', '165', '166', '167', '168', '169', '17', '171', '1715', '1718', '174', '175', '176', '177', '178', '179', '18', '180', '181', '182', '183', '185', '187', '189', '19', '190', '192', '193', '194', '195', '196', '1968', '197', '198', '20', '200', '2005', '2008', '201', '2012', '2013', '2015', '2017', '2018', '2019', '202', '2020', '2021', '2023', '2024', '2025', '2026', '2027', '2029', '203', '2030', '2031', '2032', '2034', '2035', '2036', '2040', '2042', '2044', '2045', '205', '206', '207', '208', '209', '21', '210', '211', '214', '216', '217', '218', '219', '22', '221', '223', '224', '225', '226', '2266', '227', '228', '2296', '23', '231', '232', '233', '234', '235', '236', '238', '239', '24', '240', '2409', '241', '242', '243', '244', '245', '246', '247', '248', '25', '250', '251', '252', '253', '254', '255', '256', '257', '258', '259', '26', '260', '261', '263', '264', '265', '267', '268', '269', '27', '271', '273', '274', '275', '276', '277', '28', '280', '282', '283', '284', '2841', '2843', '286', '2861', '2864', '2865', '2868', '2869', '287', '2870', '288', '289', '29', '292', '293', '294', '295', '296', '297', '299', '3', '30', '300', '301', '302', '303', '304', '305', '306', '307', '308', '309', '31', '310', '312', '313', '315', '317', '318', '319', '32', '320', '321', '322', '323', '324', '3246', '3247', '3248', '3249', '325', '326', '327', '328', '329', '33', '330', '331', '333', '334', '336', '337', '338', '339', '34', '340', '341', '342', '343', '344', '345', '348', '349', '35', '351', '352', '353', '355', '356', '357', '358', '359', '36', '362', '363', '364', '365', '366', '367', '368', '369', '37', '370', '371', '3711', '3712', '3713', '373', '374', '375', '376', '377', '378', '379', '38', '381', '382', '383', '384', '386', '387', '389', '39', '390', '391', '392', '393', '394', '396', '397', '399', '4', '40', '400', '401', '402', '405', '406', '408', '409', '41', '410', '411', '412', '4121', '413', '414', '415', '416', '418', '419', '42', '421', '422', '424', '426', '427', '428', '429', '43', '430', '4303', '431', '432', '433', '435', '436', '437', '438', '439', '440', '441', '443', '444', '445', '446', '447', '448', '45', '450', '451', '453', '454', '455', '456', '458', '46', '460', '461', '4611', '462', '463', '467', '468', '47', '472', '473', '476', '477', '479', '48', '480', '481', '486', '488', '489', '49', '490', '492', '493', '494', '495', '497', '498', '499', '5', '50', '501', '502', '504', '509', '51', '511', '513', '514', '515', '516', '517', '519', '52', '520', '522', '523', '524', '527', '528', '529', '530', '531', '536', '538', '539', '54', '540', '541', '542', '543', '544', '545', '547', '548', '549', '55', '550', '5503', '551', '552', '553', '555', '556', '557', '558', '56', '560', '561', '562', '563', '564', '566', '567', '568', '569', '5695', '5698', '57', '570', '571', '573', '574', '576', '577', '578', '58', '581', '583', '584', '585', '586', '587', '589', '59', '590', '591', '592', '593', '594', '595', '596', '597', '598', '599', '6', '600', '601', '602', '604', '605', '606', '607', '609', '61', '610', '611', '612', '613', '614', '615', '616', '617', '618', '619', '62', '620', '621', '622', '624', '626', '627', '628', '63', '631', '632', '633', '635', '636', '637', '638', '639', '640', '641', '642', '643', '644', '645', '647', '648', '649', '65', '650', '651', '652', '653', '654', '655', '656', '657', '658', '659', '66', '661', '662', '663', '664', '6648', '665', '666', '667', '668', '669', '67', '670', '672', '673', '674', '675', '676', '677', '678', '681', '682', '683', '684', '686', '687', '688', '692', '693', '694', '696', '6965', '697', '699', '7', '700', '701', '703', '704', '705', '706', '707', '708', '709', '71', '710', '711', '713', '714', '715', '716', '7165', '718', '719', '72', '720', '721', '723', '724', '725', '726', '728', '729', '73', '730', '731', '732', '733', '734', '735', '736', '738', '739', '74', '741', '742', '743', '745', '746', '748', '749', '75', '750', '751', '752', '753', '754', '755', '756', '7576', '7577', '758', '7581', '759', '76', '760', '767', '768', '769', '77', '770', '772', '773', '774', '775', '776', '779', '78', '782', '786', '788', '789', '79', '791', '792', '793', '794', '795', '796', '797', '798', '799', '8', '80', '800', '801', '802', '803', '805', '806', '807', '808', '81', '810', '812', '814', '815', '816', '817', '818', '819', '82', '820', '821', '822', '823', '824', '8282', '8283', '8284', '8285', '8286', '8287', '8288', '8289', '829', '83', '832', '835', '837', '838', '839', '84', '843', '844', '845', '847', '848', '849', '85', '851', '853', '855', '857', '86', '860', '862', '863', '864', '865', '866', '867', '868', '869', '87', '874', '875', '876', '877', '878', '88', '880', '881', '882', '883', '885', '886', '888', '889', '89', '890', '891', '892', '893', '895', '897', '898', '9', '90', '902', '903', '905', '906', '91', '910', '911', '912', '914', '916', '917', '918', '919', '92', '921', '923', '924', '926', '927', '929', '93', '930', '931', '932', '934', '936', '94', '940', '942', '943', '944', '945', '95', '951', '955', '956', '957', '958', '96', '960', '962', '963', '965', '966', '969', '970', '972', '973', '976', '977', '978', '979', '98', '980', '981', '982', '983', '984', '985', '987', '989', '990', '991', '992', '994', '995', '999'], 5: ['1000', '1003', '1005', '1006', '1009', '1011', '1012', '1016', '1017', '1018', '1019', '1031', '1032', '1034', '1035', '1037', '1042', '1049', '1050', '1051', '1055', '1058', '1059', '1060', '1061', '1062', '1065', '1068', '1082', '1086', '1089', '1095', '1097', '1099', '11', '1102', '1103', '1111', '1124', '1127', '1129', '1135', '1137', '1142', '1143', '1148', '1150', '1151', '1154', '1164', '1165', '1167', '1168', '1171', '1172', '1173', '1174', '1175', '1176', '1177', '1178', '1180', '1181', '1182', '1183', '1184', '1185', '1186', '1197', '1198', '1199', '1200', '1201', '1202', '1203', '1205', '1206', '1208', '1209', '1210', '1211', '1212', '1213', '1214', '1215', '1216', '1221', '1223', '1224', '1225', '1226', '1227', '1229', '1230', '1231', '1233', '1234', '1236', '1238', '1241', '1242', '1243', '1248', '1250', '1253', '1254', '1255', '1256', '1257', '1258', '1261', '1264', '1266', '1267', '1272', '1273', '1274', '1275', '1276', '1277', '1278', '1279', '128', '1280', '1281', '1282', '1284', '1285', '1286', '1290', '1291', '1293', '1297', '1299', '1306', '1315', '1316', '1319', '1322', '1323', '1326', '1335', '1338', '1339', '1341', '1342', '1346', '1350', '1352', '1353', '1354', '1355', '1356', '1357', '1358', '1362', '1369', '1370', '1373', '1377', '1378', '1380', '1381', '1383', '1384', '1386', '1387', '1388', '1389', '1390', '1395', '1404', '1405', '1406', '1407', '1408', '1409', '1410', '1411', '1412', '1419', '1420', '1424', '1426', '1427', '1428', '1429', '1430', '1431', '1433', '1434', '1435', '1438', '1439', '1441', '1442', '1443', '1444', '1447', '1448', '1449', '1450', '1451', '1462', '1463', '1465', '1466', '1467', '1469', '1471', '1472', '1473', '1474', '1478', '1480', '1481', '1482', '1483', '1484', '1485', '1486', '1487', '1488', '1489', '1490', '1492', '1494', '1495', '1496', '1497', '1499', '1500', '1501', '1502', '1503', '1505', '1506', '1507', '1510', '1511', '1514', '1515', '1516', '1517', '1518', '1519', '1520', '1521', '1525', '1526', '1528', '1529', '1530', '1531', '1532', '1533', '1534', '1535', '1536', '1537', '1538', '1540', '1541', '1543', '1545', '1546', '1547', '1549', '1551', '1552', '1553', '1555', '1556', '1557', '1558', '1559', '1560', '1561', '1563', '1564', '1565', '1566', '1568', '1570', '1574', '1575', '1578', '1579', '1580', '1581', '1582', '1583', '1584', '1585', '1587', '1588', '1589', '1590', '1591', '1592', '1593', '1594', '1595', '1597', '1599', '1600', '1601', '1602', '1603', '1604', '1605', '1606', '1607', '1608', '1609', '1610', '1613', '1614', '1615', '1616', '1617', '1618', '1619', '1620', '1621', '1622', '1623', '1625', '1626', '1627', '1628', '1629', '1630', '1631', '1632', '1636', '1637', '1638', '1639', '1641', '1642', '1643', '1644', '1646', '1649', '1650', '1651', '1652', '1653', '1654', '1655', '1656', '1657', '1658', '1659', '1660', '1661', '1662', '1663', '1664', '1665', '1666', '1668', '1669', '1670', '1671', '1672', '1674', '1675', '1676', '1677', '1678', '1681', '1682', '1683', '1684', '1685', '1686', '1687', '1689', '1690', '1691', '1692', '1693', '1694', '1695', '1696', '1697', '1698', '1699', '1700', '1701', '1703', '1704', '1705', '1707', '1708', '1709', '1710', '1711', '1712', '1713', '1714', '1716', '1717', '1719', '1721', '1723', '1724', '1725', '1726', '1728', '173', '1730', '1731', '1732', '1734', '1735', '1736', '1738', '1739', '1740', '1741', '1742', '1743', '1745', '1746', '1747', '1752', '1753', '1754', '1755', '1756', '1757', '1758', '1759', '1760', '1761', '1763', '1764', '1765', '1766', '1768', '1770', '1771', '1772', '1773', '1774', '1778', '1780', '1782', '1783', '1784', '1785', '1787', '1788', '1789', '1790', '1791', '1792', '1793', '1797', '1798', '1800', '1802', '1803', '1804', '1805', '1806', '1808', '1809', '1810', '1811', '1812', '1816', '1819', '1820', '1822', '1825', '1826', '1827', '1828', '1829', '1830', '1831', '1833', '1834', '1835', '1836', '1837', '1838', '1839', '1840', '1841', '1842', '1844', '1845', '1846', '1847', '1848', '1849', '1852', '1853', '1855', '1856', '1857', '1858', '1859', '1860', '1861', '1862', '1863', '1864', '1866', '1867', '1868', '1869', '1870', '1871', '1872', '1873', '1876', '1880', '1881', '1882', '1883', '1884', '1886', '1887', '1888', '1889', '1890', '1891', '1892', '1893', '1894', '1895', '1896', '1897', '1899', '1900', '1901', '1902', '1903', '1905', '1906', '1907', '1908', '1909', '191', '1911', '1913', '1914', '1916', '1917', '1918', '1919', '1920', '1921', '1923', '1925', '1926', '1927', '1928', '1929', '1930', '1931', '1932', '1933', '1934', '1938', '1939', '1940', '1941', '1944', '1945', '1948', '1950', '1952', '1953', '1955', '1956', '1958', '1959', '1960', '1962', '1963', '1964', '1965', '1966', '1969', '1970', '1973', '1975', '1976', '1977', '1978', '1979', '1980', '1981', '1983', '1985', '1986', '1987', '1988', '1989', '199', '1991', '1992', '1993', '1994', '1995', '1996', '1997', '2000', '2002', '2004', '2007', '2009', '2038', '2050', '2051', '2052', '2053', '2054', '2055', '2060', '2061', '2062', '2063', '2064', '2066', '2068', '2069', '2070', '2071', '2072', '2073', '2076', '2077', '2079', '2081', '2082', '2083', '2084', '2085', '2086', '2087', '2088', '2089', '2090', '2091', '2092', '2093', '2094', '2095', '2096', '2097', '2099', '2100', '2101', '2102', '2103', '2104', '2105', '2106', '2110', '2112', '2113', '2115', '2117', '2119', '2120', '2121', '2125', '2126', '2127', '2128', '2130', '2131', '2132', '2133', '2136', '2137', '2138', '2139', '2141', '2142', '2143', '2146', '2147', '2148', '2149', '215', '2150', '2151', '2152', '2155', '2156', '2157', '2159', '2161', '2163', '2164', '2165', '2167', '2168', '2169', '2170', '2172', '2173', '2174', '2175', '2178', '2179', '2180', '2181', '2182', '2183', '2184', '2185', '2186', '2187', '2189', '2190', '2191', '2193', '2194', '2195', '2197', '2198', '2199', '2200', '2201', '2202', '2203', '2204', '2205', '2206', '2211', '2212', '2213', '2214', '2216', '2218', '2219', '2221', '2222', '2224', '2227', '2232', '2233', '2235', '2238', '2239', '2240', '2241', '2242', '2243', '2244', '2246', '2247', '2250', '2253', '2254', '2255', '2259', '2260', '2261', '2262', '2264', '2265', '2267', '2268', '2269', '2270', '2272', '2273', '2274', '2280', '2281', '2282', '2286', '2287', '2291', '2292', '2293', '2294', '2295', '230', '2300', '2301', '2302', '2306', '2322', '2329', '2330', '2331', '2333', '2334', '2335', '2336', '2337', '2339', '2340', '2341', '2343', '2344', '2345', '2348', '2349', '2350', '2351', '2352', '2353', '2355', '2357', '2359', '2361', '2362', '2363', '2366', '2367', '237', '2370', '2372', '2373', '2374', '2375', '2378', '2380', '2382', '2385', '2388', '2389', '2390', '2391', '2392', '2393', '2394', '2395', '2396', '2397', '2399', '2400', '2401', '2402', '2403', '2404', '2405', '2406', '2407', '2410', '2412', '2413', '2414', '2417', '2418', '2419', '2420', '2422', '2423', '2424', '2425', '2426', '2427', '2428', '2429', '2434', '2435', '2437', '2438', '2439', '2441', '2442', '2443', '2444', '2445', '2446', '2447', '2448', '2449', '2450', '2451', '2453', '2454', '2455', '2457', '2459', '2460', '2461', '2462', '2463', '2464', '2465', '2466', '2469', '2470', '2471', '2472', '2473', '2475', '2477', '2478', '2479', '2482', '2484', '2487', '249', '2491', '2492', '2494', '2495', '2496', '2498', '2499', '2500', '2501', '2503', '2504', '2505', '2509', '2512', '2513', '2514', '2515', '2517', '2519', '2520', '2521', '2522', '2523', '2526', '2527', '2528', '2529', '2530', '2531', '2534', '2536', '2537', '2538', '2540', '2543', '2546', '2551', '2555', '2556', '2557', '2558', '2561', '2562', '2563', '2567', '2568', '2569', '2570', '2571', '2572', '2573', '2574', '2575', '2577', '2578', '2579', '2580', '2581', '2582', '2583', '2584', '2586', '2587', '2591', '2593', '2596', '2598', '2599', '2603', '2604', '2607', '2608', '2618', '2626', '2627', '2628', '2629', '2630', '2631', '2632', '2633', '2634', '2635', '2636', '2637', '2638', '2639', '2640', '2641', '2642', '2643', '2647', '2649', '2650', '266', '2661', '2663', '2664', '2665', '2668', '2669', '2670', '2671', '2672', '2673', '2675', '2676', '2679', '2682', '2684', '2685', '270', '2709', '2715', '2716', '2717', '2718', '2720', '2721', '2722', '2723', '2725', '2728', '2729', '2731', '2733', '2734', '2736', '2740', '2741', '2748', '2749', '2751', '2753', '2754', '2755', '2757', '2758', '2759', '2761', '2762', '2763', '2766', '2767', '2768', '2769', '2770', '2771', '2772', '2773', '2776', '2777', '2778', '2779', '2780', '2781', '2788', '2789', '2791', '2792', '2794', '2796', '2797', '2798', '2801', '2803', '2805', '2808', '2809', '2813', '2814', '2815', '2826', '2827', '2828', '2833', '2834', '2835', '2840', '2845', '2846', '2847', '2848', '2849', '285', '2850', '2852', '2853', '2857', '2858', '2862', '2863', '2866', '2876', '2877', '2879', '2880', '2881', '2882', '2884', '2885', '2887', '2888', '2890', '2891', '2892', '2893', '2894', '2895', '2896', '2898', '2899', '290', '2901', '2904', '2916', '2919', '2922', '2924', '2929', '2930', '2933', '2938', '2944', '2945', '2946', '2952', '2954', '2955', '2956', '2957', '2960', '2961', '2962', '2963', '2965', '2966', '298', '2985', '2986', '2987', '2990', '3011', '3025', '3066', '3075', '3080', '3083', '3101', '3105', '311', '3111', '3118', '3131', '3132', '3133', '3134', '3135', '3136', '3138', '314', '316', '3169', '3205', '3226', '3228', '332', '3411', '3412', '347', '350', '3594', '372', '3722', '3723', '3727', '3730', '3733', '3735', '3755', '3992', '403', '404', '407', '4190', '4194', '4195', '4225', '423', '425', '44', '4490', '4491', '4493', '4494', '4495', '4496', '4497', '4580', '469', '4856', '506', '507', '521', '5251', '5252', '5253', '546', '554', '559', '565', '5676', '572', '575', '5764', '5765', '579', '5793', '588', '60', '6321', '634', '64', '679', '689', '691', '6912', '695', '712', '717', '7218', '7219', '722', '727', '744', '761', '762', '763', '764', '765', '771', '780', '781', '783', '784', '785', '787', '804', '811', '813', '826', '8290', '8291', '8292', '830', '831', '836', '841', '852', '854', '859', '861', '870', '871', '872', '873', '887', '899', '900', '904', '907', '908', '913', '915', '920', '922', '928', '933', '935', '937', '941', '946', '947', '948', '949', '954', '959', '961', '968', '971', '975', '986', '993', '996', '998'], 3: ['1004', '1041', '1063', '1074', '1133', '1159', '1207', '1247', '1310', '1359', '136', '1360', '1457', '1470', '15', '1542', '1548', '1554', '1645', '1647', '1648', '1680', '1733', '1737', '1796', '1799', '1807', '1823', '1874', '1915', '1924', '1937', '1961', '1971', '2001', '2011', '2014', '2033', '2037', '2160', '2188', '2215', '222', '2258', '2276', '2277', '2278', '2283', '2342', '2346', '2354', '2364', '2369', '2381', '2386', '2387', '2398', '2433', '2440', '2456', '2480', '2489', '2490', '2493', '2516', '2535', '2552', '2564', '2592', '2605', '2609', '2621', '2667', '2680', '2688', '2689', '2694', '2696', '2744', '2752', '2760', '2764', '2765', '2774', '2775', '2786', '2787', '2793', '2802', '2811', '2822', '2831', '2867', '2883', '2889', '2903', '2905', '2907', '2909', '291', '2910', '2914', '2917', '2925', '2935', '2970', '2971', '2972', '2988', '3002', '3015', '3027', '3035', '3073', '3086', '3089', '3092', '3094', '3103', '3106', '3176', '3181', '3191', '3271', '3274', '3284', '3315', '3321', '3340', '3345', '3354', '3366', '3390', '3393', '3402', '3417', '3433', '3445', '3447', '3449', '3452', '3453', '3455', '3456', '3457', '3458', '3459', '3460', '3461', '3462', '3463', '3464', '3466', '3472', '3478', '3479', '3498', '3522', '3537', '3554', '3563', '3565', '3566', '3601', '3603', '3607', '3614', '3634', '3641', '3642', '3643', '3651', '3652', '3656', '3658', '3664', '3666', '3673', '3691', '3692', '3728', '3743', '3748', '3751', '3786', '3787', '3792', '3794', '3795', '3796', '3797', '3806', '3808', '3813', '3830', '3835', '3845', '3854', '3873', '3877', '388', '3897', '3898', '3900', '3902', '3910', '3911', '3916', '3919', '3922', '3930', '3956', '3958', '3960', '3969', '3976', '398', '3981', '3982', '3983', '3985', '3986', '3987', '3989', '3990', '3995', '4008', '4036', '4040', '4041', '4044', '4045', '4047', '4059', '4063', '4065', '4068', '4070', '4072', '4073', '4076', '4077', '4082', '4098', '4099', '4116', '4124', '4127', '4144', '4150', '4151', '4175', '4186', '4189', '4191', '4198', '4199', '4205', '4211', '4212', '4219', '4221', '4222', '4240', '4241', '4242', '4243', '4244', '4245', '4246', '4247', '4252', '4255', '4261', '4266', '4275', '4276', '4282', '4295', '4297', '4298', '4308', '4310', '4314', '4315', '4316', '4319', '4326', '4329', '4333', '4334', '4335', '4336', '4337', '4338', '4342', '4343', '4353', '4354', '4355', '4363', '4364', '4371', '4377', '4400', '4406', '4415', '4416', '4418', '4425', '4426', '4428', '4429', '4433', '4438', '4441', '4442', '4448', '4455', '4466', '4468', '4482', '4483', '4486', '4487', '4489', '4500', '4508', '4509', '4516', '4521', '4523', '4526', '4527', '4529', '4530', '4533', '4534', '4536', '4539', '4547', '4550', '4551', '4552', '4553', '4554', '4555', '4556', '4557', '4558', '4560', '4561', '4562', '4563', '4564', '457', '4574', '4576', '4581', '4582', '4583', '4584', '4586', '4587', '4588', '4591', '4592', '4593', '4595', '4598', '4599', '4600', '4601', '4603', '4604', '4605', '4607', '4608', '4612', '4613', '4619', '4620', '4621', '4625', '4626', '4630', '4631', '4633', '4636', '4645', '4646', '4647', '4648', '4650', '4651', '4652', '4653', '4654', '4655', '4658', '4659', '4660', '4661', '4662', '4663', '4664', '4665', '4666', '4667', '4668', '4670', '4671', '4673', '4674', '4677', '4678', '4681', '4682', '4683', '4686', '4687', '4688', '4689', '4692', '4693', '4694', '4695', '4696', '4697', '4698', '4699', '4700', '4701', '4702', '4703', '4704', '4705', '4706', '4707', '4708', '4710', '4711', '4712', '4714', '4715', '4716', '4717', '4718', '4719', '4725', '4726', '4727', '4728', '4733', '4737', '4739', '4741', '4746', '4748', '4749', '4750', '4751', '4752', '4753', '4754', '4755', '4756', '4757', '4759', '4760', '4765', '4773', '4774', '4776', '4777', '4778', '4779', '4780', '4781', '4782', '4785', '4786', '4787', '4790', '4791', '4792', '4794', '4795', '4796', '4797', '4798', '4799', '4800', '4803', '4804', '4805', '4806', '4807', '4808', '4809', '4810', '4811', '4813', '4814', '4815', '4816', '4817', '4818', '4819', '4820', '4821', '4822', '4823', '4824', '4825', '4826', '4827', '4828', '4829', '4830', '4831', '4833', '4843', '4846', '4850', '4851', '4852', '4853', '4859', '4862', '4866', '4880', '4881', '4890', '4891', '4893', '4894', '4896', '4897', '4898', '4899', '4900', '4901', '4923', '4924', '4927', '4929', '4931', '4933', '4935', '4936', '4937', '4938', '4942', '4945', '4947', '4948', '4950', '4951', '4952', '4953', '4954', '4957', '4960', '4962', '4963', '4964', '4965', '4966', '4967', '4970', '4973', '4974', '4976', '4977', '4978', '4979', '4980', '4982', '4985', '4986', '4987', '4988', '4989', '4991', '4993', '4995', '4996', '4999', '5000', '5001', '5003', '5005', '5006', '5008', '5009', '5011', '5013', '5017', '5018', '5020', '5024', '5026', '5029', '5033', '5035', '5036', '5037', '5038', '5039', '5040', '5043', '5044', '5045', '5046', '5047', '5050', '5052', '5055', '5057', '5058', '5060', '5061', '5062', '5063', '5065', '5067', '5068', '5069', '5071', '5072', '5073', '5075', '5077', '5078', '5079', '5080', '5081', '5083', '5084', '5085', '5086', '5087', '5088', '5089', '5090', '5091', '5092', '5093', '5095', '5097', '5099', '5100', '5105', '5106', '5109', '5110', '5111', '5112', '5115', '5116', '5117', '5118', '5119', '5120', '5121', '5122', '5123', '5124', '5125', '5126', '5127', '5128', '5129', '5130', '5132', '5133', '5135', '5136', '5138', '5139', '5140', '5141', '5142', '5144', '5145', '5150', '5151', '5152', '5153', '5154', '5155', '5158', '5159', '5160', '5161', '5162', '5163', '5164', '5167', '5171', '5172', '5174', '5175', '5176', '5177', '5178', '5180', '5181', '5182', '5183', '5184', '5187', '5188', '5189', '5190', '5191', '5192', '5193', '5194', '5195', '5196', '5197', '5198', '5200', '5202', '5203', '5204', '5207', '5208', '5213', '5214', '5215', '5216', '5217', '5218', '5219', '5220', '5221', '5222', '5224', '5225', '5226', '5227', '5228', '5229', '5230', '5231', '5233', '5238', '5239', '5240', '5242', '5243', '5244', '5245', '5248', '5249', '525', '5250', '5254', '5255', '5260', '5262', '5263', '5264', '5267', '5271', '5273', '5274', '5277', '5278', '5280', '5281', '5282', '5283', '5284', '5285', '5286', '5287', '5288', '5290', '5291', '5294', '5295', '5296', '5299', '5300', '5301', '5303', '5305', '5306', '5308', '5309', '5310', '5311', '5312', '5313', '5314', '5315', '5316', '5317', '5320', '5321', '5322', '5323', '5324', '5326', '5327', '5328', '5329', '5330', '5332', '5333', '5334', '5335', '5336', '5337', '5339', '5341', '5344', '5345', '5346', '5347', '5348', '5350', '5351', '5352', '5353', '5354', '5355', '5356', '5357', '5358', '5360', '5361', '5362', '5363', '5364', '5365', '5366', '5367', '5368', '5380', '5381', '5382', '5385', '5386', '5387', '5388', '5390', '5391', '5392', '5395', '5396', '5397', '5398', '5399', '5400', '5404', '5405', '5410', '5412', '5415', '5416', '5417', '5418', '5419', '5422', '5423', '5424', '5426', '5427', '5428', '5429', '5430', '5431', '5434', '5435', '5436', '5437', '5438', '5439', '5442', '5447', '5448', '5449', '5452', '5454', '5455', '5457', '5459', '5460', '5461', '5462', '5463', '5467', '5468', '5469', '5470', '5471', '5473', '5474', '5477', '5478', '5479', '5480', '5481', '5482', '5483', '5484', '5485', '5486', '5487', '5488', '5490', '5491', '5494', '5495', '5496', '5497', '5499', '5501', '5504', '5505', '5506', '5507', '5508', '5509', '5510', '5511', '5512', '5513', '5514', '5515', '5516', '5517', '5518', '5519', '5520', '5521', '5522', '5523', '5525', '5526', '5527', '5528', '5530', '5531', '5532', '5533', '5534', '5535', '5536', '5537', '5539', '5540', '5541', '5542', '5543', '5544', '5545', '5548', '5549', '5552', '5554', '5555', '5558', '5559', '5561', '5562', '5563', '5564', '5565', '5566', '5567', '5568', '5569', '5570', '5571', '5572', '5573', '5576', '5577', '5578', '5579', '5581', '5583', '5584', '5587', '5588', '5589', '5590', '5591', '5592', '5594', '5595', '5596', '5598', '5599', '5600', '5601', '5602', '5603', '5604', '5606', '5607', '5608', '5609', '5610', '5611', '5612', '5613', '5616', '5617', '5620', '5622', '5623', '5624', '5625', '5626', '5627', '5628', '5629', '5630', '5633', '5635', '5636', '5637', '5638', '5639', '5640', '5644', '5645', '5647', '5648', '5649', '5650', '5651', '5652', '5653', '5656', '5657', '5658', '5659', '5660', '5661', '5662', '5663', '5664', '5665', '5668', '5669', '5670', '5673', '5674', '5675', '5680', '5682', '5683', '5684', '5685', '5687', '5688', '5689', '5690', '5691', '5693', '5694', '5696', '5697', '5703', '5704', '5705', '5706', '5707', '5708', '5709', '5710', '5711', '5712', '5713', '5714', '5718', '5720', '5721', '5722', '5726', '5729', '5730', '5731', '5732', '5733', '5735', '5737', '5739', '5740', '5741', '5743', '5744', '5745', '5746', '5747', '5748', '5749', '5750', '5751', '5752', '5753', '5754', '5755', '5756', '5757', '5761', '5763', '5768', '5770', '5774', '5775', '5778', '5780', '5782', '5783', '5784', '5785', '5786', '5787', '5788', '5789', '5790', '5792', '5794', '5797', '5798', '5799', '5803', '5804', '5805', '5808', '5809', '5810', '5816', '5817', '5818', '582', '5821', '5823', '5827', '5828', '5829', '5830', '5832', '5833', '5834', '5836', '5837', '5838', '5840', '5841', '5842', '5844', '5846', '5848', '5850', '5852', '5853', '5854', '5855', '5856', '5860', '5861', '5862', '5863', '5864', '5866', '5868', '5871', '5873', '5874', '5875', '5876', '5877', '5878', '5880', '5882', '5884', '5885', '5886', '5888', '5889', '5890', '5891', '5895', '5899', '5903', '5907', '5909', '5911', '5913', '5914', '5916', '5917', '5924', '5925', '5926', '5928', '5930', '5931', '5934', '5935', '5936', '5937', '5938', '5939', '5941', '5942', '5944', '5945', '5946', '5947', '5950', '5955', '5958', '5959', '5960', '5961', '5962', '5963', '5964', '5965', '5967', '5972', '5973', '5977', '5978', '5980', '5981', '5991', '5992', '5993', '5994', '5995', '5997', '6003', '6005', '6007', '6009', '6010', '6014', '6017', '6018', '6019', '6020', '6021', '6022', '6023', '6024', '6026', '6027', '6028', '6029', '6030', '6033', '6034', '6035', '6036', '6037', '6038', '6039', '6041', '6042', '6048', '6050', '6051', '6052', '6053', '6054', '6056', '6057', '6058', '6059', '6060', '6061', '6062', '6063', '6069', '6070', '6075', '6077', '6078', '6079', '6080', '6081', '6082', '6083', '6088', '6091', '6092', '6093', '6094', '6096', '6098', '6105', '6106', '6107', '6108', '6109', '6110', '6111', '6119', '6120', '6124', '6126', '6129', '6130', '6133', '6134', '6135', '6141', '6142', '6143', '6144', '6145', '6146', '6147', '6148', '6149', '6152', '6153', '6155', '6156', '6157', '6158', '6160', '6161', '6162', '6164', '6165', '6166', '6168', '6170', '6175', '6176', '6178', '6179', '6181', '6183', '6185', '6186', '6187', '6188', '6190', '6191', '6192', '6193', '6196', '6197', '6199', '6200', '6201', '6203', '6204', '6205', '6206', '6207', '6208', '6213', '6214', '6215', '6216', '6217', '6219', '6222', '6223', '6224', '6225', '6226', '6228', '6229', '6230', '6232', '6235', '6236', '6239', '6240', '6244', '6246', '6247', '6248', '625', '6251', '6253', '6254', '6255', '6257', '6261', '6262', '6263', '6264', '6265', '6269', '6271', '6273', '6275', '6276', '6278', '6281', '6282', '6286', '6287', '6288', '6291', '6292', '6293', '6294', '6296', '6297', '6298', '6301', '6302', '6304', '6306', '6311', '6312', '6314', '6315', '6317', '6319', '6324', '6325', '6326', '6328', '6331', '6332', '6334', '6337', '6339', '6340', '6346', '6348', '6349', '6350', '6355', '6356', '6366', '6374', '6375', '6378', '6379', '6381', '6389', '6391', '6392', '6393', '6394', '6395', '6396', '6397', '6399', '6400', '6407', '6409', '6410', '6411', '6412', '6413', '6426', '6427', '6428', '6429', '6430', '6431', '6432', '6435', '6437', '6439', '6440', '6441', '6447', '6450', '6451', '6453', '6454', '6455', '6456', '6458', '6467', '6470', '6472', '6474', '6477', '6478', '6479', '6480', '6481', '6483', '6497', '6498', '6500', '6501', '6504', '6505', '6506', '6507', '6508', '6509', '6516', '6519', '6521', '6526', '6527', '6528', '6529', '6532', '6533', '6534', '6535', '6537', '6539', '6543', '6544', '6545', '6547', '6553', '6554', '6561', '6565', '6566', '6567', '6570', '6571', '6572', '6573', '6574', '6575', '6576', '6589', '6590', '6594', '6595', '6599', '6600', '6601', '6602', '6603', '6604', '6605', '6606', '6607', '6608', '6621', '6628', '6630', '6632', '6644', '6645', '6647', '6650', '6651', '6652', '6653', '6654', '6656', '6660', '6661', '6663', '6668', '6670', '6672', '6673', '6674', '6675', '6677', '6678', '6679', '6682', '6683', '6684', '6685', '6686', '6697', '6698', '6699', '6700', '6701', '6707', '6717', '6718', '6720', '6721', '6723', '6724', '6725', '6735', '6738', '6739', '6752', '6761', '6773', '6777', '6778', '6791', '6793', '6794', '6797', '6798', '68', '6800', '6805', '6813', '6816', '6821', '6822', '6824', '6826', '6842', '6843', '6844', '6856', '6858', '6862', '6876', '6877', '6878', '690', '6905', '6908', '6909', '6910', '6920', '6921', '6922', '6928', '6943', '6960', '6962', '6963', '6972', '6996', '6997', '7034', '7037', '7079', '7166', '7167', '7168', '7192', '7193', '7204', '7220', '7221', '7297', '7382', '766', '7844', '7848', '7957', '8175', '8295', '8296', '896', '950'], 7: ['1010', '109', '1098', '1191', '1365', '1374', '1401', '1403', '1493', '1498', '1539', '155', '1612', '1667', '1720', '1722', '1762', '1865', '1879', '1982', '2010', '2059', '2067', '2192', '2196', '2223', '2226', '2249', '2376', '2415', '2452', '2458', '2481', '2511', '2565', '2589', '2620', '2658', '2677', '2730', '2738', '2739', '2782', '2783', '2784', '2785', '2807', '2839', '2851', '2855', '2886', '2908', '2931', '2936', '2983', '3000', '3088', '3142', '3210', '3227', '3238', '3269', '3293', '3297', '3310', '3316', '3334', '3346', '335', '3353', '3355', '3381', '3389', '3471', '3545', '3571', '3586', '3593', '3600', '3662', '3665', '3683', '3726', '3747', '3752', '3764', '3770', '3788', '3809', '3850', '3851', '3885', '3929', '395', '3962', '3965', '3984', '4009', '4037', '4046', '4071', '4126', '4129', '4130', '4134', '4140', '4164', '4169', '4187', '4192', '4200', '4257', '4291', '4318', '4327', '4328', '434', '4341', '4345', '4347', '4361', '4369', '4383', '4395', '4398', '4401', '4409', '4432', '4435', '4437', '4447', '4451', '4456', '4476', '4488', '4507', '4524', '4532', '4542', '4543', '4544', '4602', '4616', '4624', '4632', '4669', '4672', '4709', '4713', '4743', '4764', '4767', '4771', '4788', '4789', '4793', '4801', '4832', '4855', '4860', '4864', '4867', '4868', '4869', '4870', '4871', '4872', '4873', '4874', '4875', '4879', '4882', '4883', '4884', '4885', '4886', '4887', '4889', '4903', '4904', '4905', '4906', '4908', '4909', '4910', '4911', '4912', '4913', '4914', '4915', '4916', '4917', '4918', '4919', '4920', '4921', '4922', '4925', '4926', '4934', '4940', '4943', '4944', '4981', '4983', '4992', '4994', '5002', '5010', '5012', '5015', '5016', '5019', '5022', '5028', '5031', '5032', '5048', '5051', '5053', '5054', '5059', '5064', '5070', '5096', '5098', '5102', '5103', '5104', '5114', '5143', '5148', '5166', '5173', '5179', '5185', '5186', '5199', '5201', '5209', '5210', '5241', '5246', '5247', '5269', '5275', '5276', '5289', '5298', '5342', '5343', '5376', '5377', '5378', '5384', '5393', '5401', '5406', '5421', '5432', '5440', '5445', '5446', '5456', '5465', '5466', '5472', '5475', '5489', '5500', '5524', '5529', '5550', '5551', '5553', '5580', '5582', '5605', '5614', '5615', '5643', '5646', '5655', '5666', '5667', '5671', '5686', '5692', '5702', '5738', '5760', '5769', '5771', '5772', '5773', '5776', '5781', '5796', '580', '5800', '5801', '5802', '5806', '5807', '5811', '5812', '5813', '5814', '5815', '5819', '5820', '5822', '5824', '5835', '5839', '5857', '5859', '5872', '5883', '5887', '5892', '5896', '5897', '5902', '5908', '5910', '5915', '5919', '5920', '5921', '5922', '5923', '5927', '5932', '5933', '5940', '5943', '5949', '5952', '5966', '5969', '5982', '5983', '5984', '5985', '5986', '5987', '5988', '5989', '5990', '5998', '5999', '6000', '6001', '6004', '6006', '6013', '6015', '6016', '6031', '6032', '6043', '6044', '6045', '6046', '6047', '6049', '6055', '6064', '6066', '6067', '6068', '6071', '6072', '6073', '6074', '6097', '6112', '6113', '6114', '6116', '6118', '6121', '6123', '6127', '6128', '6132', '6139', '6150', '6151', '6169', '6174', '6177', '6180', '6182', '6184', '6198', '6202', '6212', '6218', '6220', '6221', '6227', '6241', '6242', '6243', '6245', '6252', '6270', '6272', '6274', '6280', '6295', '6299', '6305', '6307', '6313', '6316', '6320', '6323', '6327', '6330', '6333', '6344', '6347', '6351', '6359', '6360', '6367', '6371', '6376', '6377', '6380', '6383', '6387', '6388', '6398', '6406', '6408', '6414', '6415', '6416', '6417', '6421', '6422', '6423', '6424', '6436', '6442', '6443', '6444', '6445', '6446', '6448', '6452', '6457', '6459', '6460', '6461', '6462', '6464', '6466', '6468', '6469', '6471', '6484', '6485', '6486', '6487', '6488', '6489', '6490', '6491', '6492', '6493', '6494', '6495', '6496', '6502', '6503', '6510', '6511', '6513', '6514', '6515', '6517', '6518', '6520', '6522', '6523', '6524', '6525', '6530', '6536', '6538', '6541', '6542', '6546', '6548', '6550', '6551', '6552', '6555', '6560', '6563', '6568', '6577', '6592', '6596', '6598', '6609', '6611', '6612', '6613', '6614', '6615', '6616', '6617', '6618', '6619', '6620', '6622', '6623', '6624', '6625', '6626', '6627', '6633', '6634', '6635', '6636', '6638', '6639', '6641', '6643', '6646', '6649', '6655', '6657', '6658', '6665', '6666', '6671', '6676', '6680', '6681', '6692', '6695', '6696', '6702', '6703', '6705', '6706', '6709', '6710', '6711', '6712', '6713', '6714', '6715', '6719', '6726', '6727', '6728', '6729', '6730', '6731', '6732', '6734', '6736', '6737', '6744', '6745', '6746', '6747', '6749', '6751', '6753', '6755', '6756', '6757', '6758', '6759', '6760', '6762', '6764', '6765', '6766', '6767', '6768', '6769', '6770', '6771', '6772', '6774', '6775', '6776', '6779', '6780', '6781', '6782', '6783', '6784', '6787', '6788', '6789', '6790', '6795', '6801', '6802', '6803', '6804', '6806', '6807', '6808', '6809', '6810', '6811', '6812', '6815', '6818', '6819', '6828', '6829', '6832', '6833', '6834', '6835', '6836', '6837', '6840', '6841', '6845', '6846', '6847', '6848', '6850', '6852', '6854', '6855', '6859', '6860', '6861', '6863', '6864', '6865', '6866', '6867', '6869', '6870', '6871', '6873', '6875', '6880', '6881', '6883', '6884', '6885', '6886', '6889', '6890', '6892', '6895', '6896', '6897', '6899', '6900', '6901', '6902', '6903', '6904', '6906', '6907', '6911', '6913', '6914', '6915', '6916', '6917', '6918', '6923', '6924', '6926', '6927', '6929', '6930', '6933', '6934', '6935', '6936', '6938', '6940', '6941', '6942', '6945', '6946', '6947', '6948', '6949', '6950', '6951', '6953', '6954', '6955', '6958', '6959', '6961', '6967', '6968', '6969', '6971', '6974', '6975', '6976', '6978', '6979', '6980', '6981', '6982', '6983', '6984', '6985', '6986', '6987', '6990', '6991', '6993', '6994', '6995', '6998', '6999', '7000', '7001', '7002', '7003', '7004', '7005', '7006', '7007', '7008', '7009', '7010', '7011', '7012', '7013', '7014', '7015', '7016', '7017', '7018', '7019', '7020', '7021', '7022', '7023', '7024', '7025', '7026', '7027', '7028', '7029', '7030', '7035', '7036', '7038', '7040', '7041', '7042', '7043', '7044', '7045', '7046', '7047', '7048', '7049', '7050', '7051', '7052', '7053', '7054', '7055', '7056', '7057', '7059', '7060', '7061', '7062', '7063', '7064', '7065', '7070', '7071', '7072', '7073', '7074', '7080', '7082', '7084', '7085', '7086', '7087', '7088', '7089', '7090', '7092', '7094', '7095', '7096', '7098', '7099', '7100', '7101', '7103', '7104', '7106', '7107', '7108', '7109', '7110', '7111', '7112', '7113', '7114', '7115', '7116', '7117', '7118', '7119', '7120', '7121', '7122', '7123', '7124', '7125', '7126', '7127', '7128', '7129', '7130', '7131', '7132', '7133', '7134', '7135', '7136', '7137', '7138', '7139', '7140', '7142', '7143', '7144', '7145', '7146', '7149', '7150', '7151', '7153', '7154', '7155', '7156', '7157', '7158', '7159', '7160', '7161', '7162', '7163', '7164', '7170', '7171', '7172', '7173', '7174', '7175', '7176', '7177', '7178', '7179', '7180', '7181', '7183', '7184', '7185', '7186', '7188', '7189', '7197', '7198', '7199', '7201', '7203', '7205', '7206', '7210', '7211', '7212', '7214', '7215', '7217', '7222', '7223', '7225', '7226', '7227', '7228', '7229', '7230', '7231', '7232', '7233', '7234', '7235', '7236', '7237', '7238', '7239', '7240', '7241', '7243', '7245', '7246', '7250', '7251', '7252', '7253', '7254', '7255', '7257', '7260', '7262', '7265', '7266', '7267', '7268', '7269', '7270', '7271', '7273', '7276', '7277', '7278', '7279', '7280', '7281', '7282', '7283', '7284', '7285', '7286', '7287', '7289', '7290', '7293', '7294', '7295', '7296', '7298', '7299', '7300', '7301', '7302', '7304', '7305', '7306', '7309', '7310', '7315', '7316', '7317', '7318', '7319', '7320', '7321', '7323', '7326', '7327', '7329', '7330', '7332', '7333', '7335', '7336', '7337', '7341', '7342', '7343', '7344', '7345', '7347', '7348', '7349', '7350', '7351', '7352', '7353', '7354', '7355', '7357', '7359', '7360', '7362', '7363', '7365', '737', '7371', '7372', '7373', '7374', '7376', '7377', '7378', '7379', '7380', '7381', '7386', '7387', '7389', '7390', '7391', '7393', '7394', '7397', '7400', '7401', '7402', '7403', '7404', '7405', '7407', '7409', '7413', '7414', '7415', '7416', '7417', '7418', '7419', '7420', '7421', '7422', '7423', '7424', '7425', '7426', '7427', '7428', '7429', '7430', '7431', '7434', '7436', '7439', '7440', '7441', '7442', '7443', '7444', '7445', '7446', '7447', '7448', '7449', '7450', '7451', '7452', '7453', '7454', '7455', '7456', '7457', '7458', '7459', '7461', '7462', '7468', '7469', '7470', '7471', '7472', '7473', '7474', '7476', '7477', '7478', '7480', '7481', '7482', '7483', '7484', '7485', '7486', '7487', '7490', '7491', '7492', '7493', '7497', '7498', '7501', '7502', '7503', '7505', '7506', '7508', '7509', '7510', '7511', '7512', '7513', '7514', '7515', '7517', '7518', '7520', '7522', '7523', '7524', '7525', '7527', '7528', '7529', '7531', '7533', '7534', '7535', '7536', '7537', '7538', '7540', '7544', '7545', '7546', '7549', '7550', '7553', '7554', '7557', '7561', '7563', '7564', '7565', '7567', '7569', '7570', '7571', '7572', '7574', '7578', '7579', '7580', '7583', '7585', '7586', '7587', '7588', '7590', '7593', '7594', '7595', '7597', '7598', '7599', '7600', '7601', '7602', '7604', '7605', '7608', '7609', '7610', '7611', '7613', '7614', '7615', '7616', '7617', '7618', '7619', '7620', '7623', '7624', '7625', '7626', '7629', '7630', '7632', '7634', '7636', '7637', '7638', '7639', '7642', '7644', '7645', '7646', '7647', '7648', '7649', '7650', '7651', '7652', '7653', '7658', '7659', '7660', '7661', '7662', '7663', '7664', '7665', '7666', '7668', '7669', '7670', '7672', '7673', '7675', '7676', '7677', '7678', '7679', '7682', '7683', '7684', '7685', '7686', '7687', '7688', '7690', '7691', '7694', '7695', '7696', '7697', '7698', '7699', '7701', '7703', '7704', '7705', '7706', '7707', '7715', '7716', '7717', '7719', '7720', '7721', '7724', '7726', '7727', '7728', '7729', '7730', '7732', '7733', '7734', '7735', '7736', '7737', '7738', '7740', '7741', '7742', '7743', '7744', '7745', '7747', '7750', '7751', '7752', '7753', '7754', '7755', '7756', '7757', '7758', '7759', '7760', '7761', '7762', '7763', '7765', '7766', '7767', '7768', '7769', '7770', '7771', '7772', '7773', '7774', '7775', '7777', '7778', '7779', '7780', '7781', '7782', '7783', '7788', '7789', '7790', '7791', '7792', '7795', '7796', '7797', '7799', '7800', '7801', '7802', '7803', '7804', '7805', '7806', '7808', '7809', '7810', '7812', '7813', '7814', '7815', '7818', '7819', '7821', '7822', '7826', '7827', '7828', '7829', '7830', '7831', '7832', '7833', '7834', '7835', '7836', '7837', '7839', '7840', '7841', '7842', '7843', '7845', '7849', '7850', '7851', '7852', '7853', '7854', '7855', '7856', '7857', '7860', '7861', '7862', '7863', '7864', '7865', '7866', '7867', '7868', '7869', '7870', '7871', '7873', '7874', '7875', '7877', '7878', '7879', '7881', '7882', '7883', '7884', '7885', '7886', '7887', '7888', '7889', '7890', '7891', '7892', '7893', '7894', '7899', '7900', '7901', '7902', '7903', '7904', '7905', '7906', '7907', '7908', '7909', '7910', '7911', '7912', '7913', '7914', '7915', '7916', '7919', '7920', '7921', '7922', '7923', '7924', '7925', '7927', '7928', '7929', '7930', '7931', '7932', '7933', '7934', '7935', '7937', '7938', '7939', '7940', '7941', '7942', '7944', '7945', '7946', '7948', '7949', '7950', '7952', '7953', '7954', '7955', '7956', '7959', '7960', '7961', '7964', '7965', '7966', '7967', '7968', '7969', '7970', '7974', '7975', '7976', '7978', '7979', '7980', '7985', '7986', '7991', '7992', '7993', '7994', '7995', '7996', '7998', '7999', '8000', '8001', '8002', '8005', '8006', '8007', '8009', '8010', '8011', '8012', '8013', '8019', '8020', '8021', '8023', '8024', '8025', '8027', '8028', '8033', '8035', '8036', '8037', '8038', '8040', '8041', '8042', '8043', '8044', '8045', '8046', '8047', '8048', '8049', '8050', '8051', '8052', '8053', '8054', '8055', '8056', '8057', '8058', '8060', '8061', '8062', '8063', '8064', '8065', '8066', '8068', '8069', '8070', '8071', '8072', '8073', '8077', '8079', '8080', '8081', '8083', '8084', '8085', '8086', '8087', '8088', '8089', '8090', '8091', '8092', '8093', '8094', '8095', '8096', '8097', '8098', '8099', '8100', '8101', '8102', '8103', '8104', '8105', '8106', '8107', '8108', '8109', '8110', '8111', '8112', '8114', '8115', '8118', '8119', '8120', '8121', '8122', '8124', '8126', '8128', '8130', '8131', '8132', '8133', '8134', '8135', '8136', '8137', '8138', '8139', '8140', '8141', '8142', '8144', '8145', '8146', '8147', '8148', '8149', '8150', '8152', '8153', '8155', '8156', '8157', '8158', '8159', '8161', '8162', '8163', '8165', '8166', '8167', '8168', '8169', '8170', '8171', '8172', '8173', '8174', '8177', '8178', '8179', '8180', '8181', '8182', '8183', '8184', '8186', '8187', '8189', '8190', '8192', '8193', '8194', '8195', '8196', '8197', '8198', '8199', '8202', '8203', '8204', '8205', '8206', '8209', '8211', '8212', '8213', '8214', '8215', '8216', '8219', '8221', '8222', '8224', '8225', '8226', '8227', '8229', '8231', '8232', '8233', '8235', '8236', '8237', '8238', '8241', '8242', '8243', '8244', '8245', '8246', '8248', '8249', '8251', '8252', '8253', '8254', '8255', '8256', '8260', '8261', '8262', '8263', '8264', '8265', '8266', '8270', '8271', '8272', '8273', '8274', '8275', '8276', '8277', '8297', '840', '850', '909', '938', '967', '99'], 25: ['1024', '1100', '1132', '1147', '1157', '1166', '1169', '1179', '122', '1228', '1239', '1259', '1268', '1269', '1305', '1307', '1320', '1367', '1368', '1376', '1379', '1382', '1385', '1393', '1416', '1437', '1452', '1453', '1504', '1509', '1522', '1550', '1571', '1596', '1611', '1633', '1679', '1688', '1706', '172', '1729', '1744', '1748', '1749', '1751', '1767', '1769', '1775', '1777', '1781', '1794', '1795', '1813', '1814', '1821', '1832', '1875', '188', '1885', '1912', '1922', '1935', '1946', '1947', '1951', '1967', '1972', '1984', '1990', '2003', '2016', '2028', '204', '2041', '2047', '2049', '2056', '2057', '2058', '2065', '2108', '2109', '2111', '2114', '2116', '2118', '212', '2129', '213', '2134', '2135', '2144', '2145', '2153', '2171', '2176', '2177', '2209', '2210', '2217', '2225', '2228', '2229', '2230', '2231', '2234', '2236', '2237', '2251', '2252', '2256', '2257', '2288', '2289', '2290', '2297', '2298', '2299', '2307', '2319', '2323', '2324', '2325', '2326', '2328', '2332', '2338', '2356', '2360', '2365', '2368', '2371', '2379', '2384', '2411', '2416', '2467', '2474', '2476', '2485', '2488', '2497', '2502', '2506', '2507', '2508', '2510', '2518', '2524', '2541', '2542', '2544', '2545', '2547', '2548', '2549', '2550', '2559', '2560', '2566', '2576', '2585', '2594', '2595', '2597', '2606', '2610', '2611', '2612', '2613', '2614', '2615', '2616', '2617', '2619', '2623', '2624', '2625', '2644', '2645', '2646', '2648', '2651', '2652', '2653', '2654', '2655', '2656', '2657', '2659', '2660', '2662', '2674', '2678', '2683', '2686', '2687', '2690', '2691', '2692', '2693', '2695', '2697', '2698', '2699', '2700', '2701', '2702', '2703', '2704', '2705', '2706', '2707', '2708', '2711', '2713', '2719', '2724', '2727', '2737', '2746', '2747', '2790', '2799', '2804', '2817', '2818', '2819', '2821', '2823', '2824', '2825', '2830', '2832', '2838', '2842', '2844', '2856', '2859', '2860', '2871', '2872', '2875', '2900', '2902', '2906', '2912', '2913', '2918', '2921', '2923', '2926', '2928', '2932', '2939', '2940', '2941', '2947', '2948', '2949', '2950', '2951', '2953', '2958', '2964', '2967', '2968', '2969', '2973', '2974', '2975', '2976', '2977', '2978', '2979', '2980', '2981', '2982', '2989', '2991', '2992', '2993', '2994', '2995', '2996', '2998', '2999', '3001', '3003', '3004', '3005', '3006', '3007', '3008', '3009', '3010', '3012', '3013', '3014', '3016', '3017', '3018', '3019', '3020', '3021', '3022', '3023', '3024', '3026', '3028', '3029', '3030', '3031', '3032', '3033', '3034', '3036', '3037', '3038', '3039', '3040', '3041', '3042', '3043', '3044', '3046', '3047', '3048', '3049', '3050', '3051', '3052', '3053', '3054', '3055', '3056', '3057', '3059', '3060', '3061', '3062', '3063', '3068', '3070', '3071', '3072', '3074', '3076', '3077', '3078', '3081', '3082', '3084', '3085', '3087', '3090', '3091', '3093', '3095', '3096', '3097', '3098', '3099', '3102', '3104', '3107', '3108', '3109', '3110', '3112', '3113', '3114', '3115', '3117', '3119', '3120', '3123', '3124', '3125', '3126', '3127', '3128', '3129', '3130', '3137', '3140', '3143', '3144', '3145', '3146', '3147', '3148', '3149', '3150', '3151', '3152', '3153', '3154', '3155', '3156', '3158', '3159', '3160', '3162', '3163', '3164', '3165', '3166', '3167', '3168', '3171', '3172', '3173', '3174', '3175', '3180', '3182', '3183', '3184', '3185', '3186', '3187', '3188', '3189', '3190', '3192', '3193', '3196', '3197', '3198', '3199', '3200', '3201', '3202', '3203', '3204', '3206', '3207', '3208', '3209', '3211', '3212', '3213', '3214', '3215', '3216', '3217', '3218', '3219', '3220', '3221', '3222', '3223', '3224', '3225', '3229', '3230', '3231', '3232', '3233', '3234', '3235', '3237', '3239', '3240', '3241', '3242', '3243', '3250', '3251', '3252', '3253', '3255', '3256', '3257', '3258', '3259', '3260', '3261', '3262', '3263', '3264', '3265', '3266', '3267', '3268', '3270', '3272', '3273', '3275', '3276', '3277', '3278', '3279', '3280', '3281', '3282', '3285', '3288', '3290', '3291', '3292', '3294', '3296', '3298', '3299', '3300', '3301', '3302', '3303', '3304', '3305', '3306', '3307', '3309', '3311', '3312', '3313', '3314', '3317', '3318', '3319', '3320', '3322', '3323', '3324', '3325', '3326', '3331', '3332', '3333', '3335', '3338', '3339', '3341', '3342', '3343', '3344', '3348', '3349', '3350', '3351', '3352', '3356', '3357', '3358', '3359', '3360', '3361', '3362', '3363', '3367', '3368', '3369', '3370', '3371', '3373', '3374', '3375', '3376', '3377', '3378', '3379', '3380', '3382', '3383', '3384', '3385', '3386', '3388', '3391', '3392', '3394', '3395', '3396', '3397', '3398', '3399', '3400', '3401', '3403', '3404', '3405', '3406', '3407', '3408', '3409', '3410', '3416', '3418', '3422', '3423', '3424', '3426', '3427', '3429', '3434', '3435', '3436', '3437', '3438', '3439', '3440', '3441', '3443', '3444', '3446', '3448', '3450', '3451', '3454', '346', '3465', '3467', '3468', '3469', '3470', '3473', '3475', '3477', '3480', '3481', '3482', '3483', '3486', '3487', '3488', '3489', '3490', '3493', '3494', '3496', '3497', '3500', '3504', '3506', '3508', '3509', '3510', '3511', '3512', '3513', '3514', '3515', '3516', '3518', '3519', '3520', '3521', '3523', '3524', '3525', '3526', '3527', '3528', '3529', '3530', '3531', '3532', '3535', '3536', '3538', '3539', '3540', '3541', '3542', '3543', '3544', '3547', '3548', '3549', '3550', '3551', '3552', '3553', '3555', '3556', '3557', '3558', '3560', '3561', '3562', '3564', '3567', '3568', '3569', '3576', '3577', '3578', '3579', '3580', '3581', '3582', '3583', '3584', '3585', '3587', '3589', '3590', '3591', '3592', '3595', '3596', '3597', '3598', '3599', '3602', '3604', '3605', '3606', '3609', '3610', '3611', '3613', '3615', '3616', '3617', '3618', '3619', '3620', '3621', '3622', '3623', '3624', '3625', '3628', '3629', '3630', '3631', '3632', '3633', '3635', '3636', '3637', '3638', '3639', '3640', '3645', '3646', '3647', '3648', '3649', '3650', '3653', '3654', '3655', '3657', '3659', '3660', '3661', '3663', '3667', '3668', '3669', '3670', '3671', '3674', '3675', '3676', '3677', '3678', '3679', '3680', '3681', '3682', '3684', '3685', '3686', '3687', '3688', '3689', '3690', '3693', '3694', '3695', '3696', '3697', '3698', '3700', '3701', '3702', '3703', '3704', '3705', '3706', '3707', '3708', '3709', '3714', '3715', '3717', '3718', '3719', '3720', '3724', '3725', '3729', '3731', '3737', '3742', '3744', '3745', '3746', '3749', '3750', '3753', '3754', '3757', '3758', '3759', '3760', '3761', '3762', '3763', '3765', '3766', '3767', '3769', '3771', '3772', '3774', '3775', '3776', '3777', '3779', '3780', '3781', '3782', '3783', '3784', '3785', '3791', '3798', '3799', '3800', '3801', '3802', '3803', '3804', '3805', '3807', '3810', '3811', '3812', '3814', '3815', '3816', '3817', '3819', '3821', '3822', '3823', '3824', '3825', '3827', '3829', '3832', '3833', '3834', '3836', '3837', '3839', '3840', '3841', '3842', '3843', '3844', '3847', '3848', '3849', '3855', '3856', '3858', '3862', '3863', '3864', '3865', '3867', '3869', '3870', '3871', '3872', '3875', '3876', '3878', '3880', '3881', '3882', '3883', '3886', '3887', '3888', '3889', '3890', '3891', '3892', '3893', '3894', '3895', '3896', '3901', '3903', '3904', '3905', '3906', '3907', '3908', '3909', '3912', '3914', '3917', '3918', '3920', '3921', '3923', '3924', '3925', '3926', '3927', '3928', '3931', '3932', '3933', '3935', '3936', '3937', '3939', '3941', '3942', '3943', '3944', '3945', '3946', '3947', '3948', '3949', '3952', '3953', '3954', '3955', '3957', '3959', '3961', '3963', '3964', '3966', '3967', '3968', '3970', '3971', '3973', '3974', '3977', '3978', '3979', '3980', '3991', '3997', '3998', '3999', '4000', '4001', '4005', '4006', '4007', '4010', '4011', '4012', '4013', '4014', '4015', '4016', '4019', '4020', '4021', '4023', '4024', '4025', '4026', '4027', '4028', '4030', '4031', '4034', '4035', '4038', '4039', '4042', '4043', '4048', '4049', '4050', '4051', '4053', '4055', '4056', '4057', '4058', '4061', '4062', '4064', '4066', '4067', '4069', '4074', '4075', '4078', '4079', '4080', '4083', '4085', '4086', '4088', '4089', '4090', '4091', '4092', '4093', '4095', '4096', '4097', '4100', '4103', '4104', '4105', '4106', '4107', '4108', '4109', '4110', '4111', '4117', '4119', '4120', '4122', '4123', '4125', '4128', '4131', '4132', '4133', '4135', '4136', '4137', '4138', '4139', '4141', '4142', '4143', '4145', '4146', '4147', '4148', '4149', '4152', '4153', '4154', '4155', '4159', '4162', '4163', '4165', '4166', '417', '4170', '4171', '4173', '4174', '4176', '4177', '4178', '4179', '4180', '4181', '4183', '4184', '4185', '4188', '4197', '4201', '4202', '4203', '4204', '4206', '4207', '4208', '4209', '4210', '4213', '4214', '4215', '4216', '4217', '4218', '4220', '4223', '4224', '4228', '4229', '4231', '4232', '4233', '4234', '4235', '4236', '4237', '4238', '4248', '4249', '4250', '4251', '4254', '4256', '4259', '4260', '4263', '4264', '4265', '4267', '4269', '4272', '4273', '4274', '4277', '4278', '4279', '4280', '4283', '4284', '4285', '4289', '4290', '4292', '4296', '4299', '4304', '4305', '4306', '4307', '4311', '4312', '4313', '4317', '4320', '4321', '4322', '4323', '4324', '4325', '4331', '4332', '4340', '4344', '4346', '4348', '4349', '4351', '4352', '4357', '4358', '4359', '4360', '4362', '4365', '4366', '4368', '4370', '4372', '4373', '4375', '4378', '4379', '4380', '4381', '4382', '4384', '4385', '4386', '4389', '4393', '4394', '4396', '4397', '4399', '4402', '4403', '4404', '4405', '4407', '4408', '4411', '4412', '4413', '4414', '4417', '4422', '4423', '4424', '4427', '4430', '4431', '4434', '4436', '4439', '4440', '4443', '4444', '4445', '4446', '4449', '4450', '4452', '4453', '4454', '4457', '4458', '4459', '4460', '4461', '4462', '4463', '4464', '4465', '4467', '4469', '4470', '4471', '4473', '4474', '4475', '4477', '4478', '4479', '4480', '4481', '4485', '449', '4492', '4498', '4502', '4503', '4504', '4510', '4511', '4528', '4531', '4535', '4538', '4545', '4565', '4566', '4567', '4568', '4569', '4575', '4577', '4578', '4594', '4596', '4597', '4609', '4615', '4617', '4618', '4622', '4623', '4627', '4629', '4635', '4638', '4639', '4640', '4641', '4644', '4649', '465', '4675', '4684', '4720', '4721', '4723', '4735', '4736', '4738', '4740', '4742', '4744', '4745', '4761', '4762', '4763', '4766', '4783', '4834', '4835', '4836', '4837', '4838', '4839', '4840', '4841', '4842', '4844', '4845', '4847', '4848', '4849', '4854', '4857', '4858', '4861', '4863', '4876', '4932', '4946', '4969', '4971', '4972', '4975', '5146', '5232', '5261', '5265', '53', '532', '534', '5476', '5631', '5717', '5956', '608', '6279', '646', '6475', '698', '7187', '7291', '7292', '7383', '7392', '7708', '778', '825', '827', '8293', '8294', '842', '856', '879', '964', '974', '988'], 10: ['1943', '2285', '2308', '2309', '2310', '2311', '2312', '2313', '2314', '2315', '2316', '2317', '2318', '2320', '2321', '3425', '3491', '3492', '3495', '3499', '5370', '5371', '5372', '5373', '5374', '5375', '6578', '6579', '6580', '6581', '6582', '6583', '6584', '6585', '6586', '6587', '6588'], 21: ['2304', '2305'], 28: ['3194', '3195'], 29: ['3244', '3245'], 0: ['4167', '4168'], 1: ['4540', '4541'], 2: ['5413', '5414'], 4: ['5678', '5679'], 8: ['5766', '5767'], 9: ['5970', '5971'], 11: ['6002', '6025'], 12: ['6089', '6090'], 14: ['6100', '6101'], 15: ['6258', '6259'], 16: ['6266', '6267'], 13: ['6687', '6688', '6689', '6690', '6691'], 17: ['7031', '7032', '7033'], 18: ['7190', '7191'], 19: ['7194', '7195'], 20: ['7465', '7466', '7467'], 22: ['7494', '7495'], 23: ['7972', '7973'], 24: ['7981', '7982'], 26: ['8014', '8015'], 27: ['8074', '8075', '8076']}\n"
     ]
    }
   ],
   "source": [
    "result = defaultdict(list)\n",
    "for key, val in sorted(communities.items()):\n",
    "    result[val].append(key)\n",
    "     \n",
    "print(\"Grouped communities are : \" + str(dict(result)))"
   ]
  },
  {
   "cell_type": "code",
   "execution_count": null,
   "id": "iWZIC9ELI2mS",
   "metadata": {
    "id": "iWZIC9ELI2mS"
   },
   "outputs": [],
   "source": []
  }
 ],
 "metadata": {
  "colab": {
   "name": "Graph_Assignment.ipynb",
   "provenance": []
  },
  "kernelspec": {
   "display_name": "Python 3",
   "language": "python",
   "name": "python3"
  },
  "language_info": {
   "codemirror_mode": {
    "name": "ipython",
    "version": 3
   },
   "file_extension": ".py",
   "mimetype": "text/x-python",
   "name": "python",
   "nbconvert_exporter": "python",
   "pygments_lexer": "ipython3",
   "version": "3.8.3"
  }
 },
 "nbformat": 4,
 "nbformat_minor": 5
}
